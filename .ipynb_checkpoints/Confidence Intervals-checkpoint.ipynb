{
 "cells": [
  {
   "cell_type": "markdown",
   "metadata": {},
   "source": [
    "**Point Estimates**\n",
    "\n",
    "A population parameter is estimated based on the properties of a sample from the population. The sample mean and variance are typical estimators or predictors of the true mean and variance, and are often called “point” estimates. However, Without having observed the entire population, one can never be sure that the sample closely reflects the population."
   ]
  },
  {
   "cell_type": "code",
   "execution_count": 263,
   "metadata": {},
   "outputs": [],
   "source": [
    "# importing the necessary libraries\n",
    "import numpy as np\n",
    "import pandas as pd\n",
    "import matplotlib.pyplot as plt\n",
    "import seaborn as sns\n",
    "%matplotlib inline"
   ]
  },
  {
   "cell_type": "code",
   "execution_count": 264,
   "metadata": {},
   "outputs": [],
   "source": [
    "import random\n",
    "\n",
    "np.random.seed(10)\n",
    "random.seed(12)"
   ]
  },
  {
   "cell_type": "code",
   "execution_count": 265,
   "metadata": {},
   "outputs": [
    {
     "data": {
      "text/plain": [
       "<matplotlib.axes._subplots.AxesSubplot at 0x194758d07f0>"
      ]
     },
     "execution_count": 265,
     "metadata": {},
     "output_type": "execute_result"
    },
    {
     "data": {
      "image/png": "[encoded data removed]",
      "text/plain": [
       "<Figure size 432x288 with 1 Axes>"
      ]
     },
     "metadata": {
      "needs_background": "light"
     },
     "output_type": "display_data"
    }
   ],
   "source": [
    "# Let's define a normal distribution of mean 50, and standard deviation 25\n",
    "\n",
    "population = np.random.normal(50, 25, 10000)\n",
    "sns.distplot(x)"
   ]
  },
  {
   "cell_type": "code",
   "execution_count": 266,
   "metadata": {},
   "outputs": [
    {
     "name": "stdout",
     "output_type": "stream",
     "text": [
      "50.170329346612974\n",
      "24.471127496316917\n"
     ]
    }
   ],
   "source": [
    "# let's take a sample of size 1000 from this distribution and calculate it's mean and std \n",
    "\n",
    "sample1 = np.random.choice(population, 1000)\n",
    "print(np.mean(sample1))\n",
    "print(np.std(sample1))"
   ]
  },
  {
   "cell_type": "markdown",
   "metadata": {},
   "source": [
    "We can see that the sample mean and standard deviation (The Point Estimates) give an accurate estimation of the population mean and standard deviation"
   ]
  },
  {
   "cell_type": "markdown",
   "metadata": {},
   "source": [
    "**Confidence Intervals**\n",
    "\n",
    "Let us assume we take a sample of 20 tablets from a huge batch of tablets and find the mean potency to be 49.8mg. This is the point estimate. Now, it is almost certain that the true batch mean is not exactly 49.8 mg. However, there is no reason, unless other information is available, to estimate the mean to be a value different from 49.8 mg.\n",
    "\n",
    "Now, this raises the question of the reliability of the sample statistic as an estimate of the true parameter. One might inquire: “How close do you think the true mean is to 49.8 mg?” Does the 49.8-mg estimate mean that the true mean potency could be as high as 60 mg, or is there a high probability that the true mean is not more than 52 mg? This question can be answered by use of a confidence interval.\n",
    "\n",
    "**A confidence interval is an interval within which we believe the true mean lies.**\n",
    "\n",
    "We can say, for\n",
    "example, that the true batch mean potency is between 47.8 and 51.8 mg with 95% probability.\n",
    "The width of the interval depends on the properties of the population, the sample estimates of\n",
    "the parameters, and the degree of certainty desired (the probability statement).\n",
    "\n"
   ]
  },
  {
   "cell_type": "markdown",
   "metadata": {},
   "source": [
    "If the distribution of means is normal and $\\sigma$ is known, an interval with confidence coefficient,\n",
    "P (probability), can be computed. A two-sided confidence interval, symmetric about the observed mean, is calculated\n",
    "as follows:\n",
    "\n",
    "P % confidence interval = $X ± Zp*\\sigma/\\sqrt{N}$\n",
    "\n",
    "where X is the observed sample mean, N the sample size, $\\sigma$ the population standard deviation,\n",
    "and Zp the normal deviate corresponding to the (P+l)/2 percentile of the cumulative standard\n",
    "normal distribution. For example, for a 95% confidence interval, Zp = 1.96, corresponding to\n",
    "(0.95 + l)/2 = 0.975 of the area in the cumulative standard normal distribution."
   ]
  },
  {
   "cell_type": "markdown",
   "metadata": {},
   "source": [
    "This is intuition of what Zp is\n",
    "![Zp](Zp.png)"
   ]
  },
  {
   "cell_type": "markdown",
   "metadata": {},
   "source": [
    "It can be proven that when intervals are constructed according to the above equation, P% (e.g., 95%) of such intervals will contain the true mean. For example, If means from 20 samples are taken, For a 95% confidence interval, 19 of 20 such intervals will cover the true mean. Any single interval has a 95% chance of covering the true mean. "
   ]
  },
  {
   "cell_type": "code",
   "execution_count": 267,
   "metadata": {},
   "outputs": [],
   "source": [
    "# Enough Talk. Let's implement it.\n",
    "# Let's create a batch of 100000 tablets with mean potency 50mg and standard deviation 25. \n",
    "population_tablets = np.random.normal(50, 25, 100000)"
   ]
  },
  {
   "cell_type": "code",
   "execution_count": 268,
   "metadata": {},
   "outputs": [],
   "source": [
    "# Let's create a function which gives us the confidence intervals\n",
    "\n",
    "from scipy import stats\n",
    "import math\n",
    "\n",
    "def zpscore(p):\n",
    "    '''This calculates the Zp value for the given probability'''\n",
    "    return stats.norm.ppf((p+1)/2)\n",
    "    \n",
    "# confidence interval if population standard deviation is known\n",
    "def confidence_interval(sample, probability, pop_std):\n",
    "    sample_mean = np.mean(sample)\n",
    "    sample_size=len(sample)\n",
    "    x =  zpscore(probability)*pop_std/math.sqrt(sample_size)\n",
    "    return [sample_mean+x, sample_mean-x]"
   ]
  },
  {
   "cell_type": "code",
   "execution_count": 269,
   "metadata": {},
   "outputs": [
    {
     "name": "stdout",
     "output_type": "stream",
     "text": [
      "The mean of this sample is: 48.9780124758296\n",
      "The interval in which there is 95% probability that the true mean lies is: \n",
      "[58.77783239852987, 39.178192553129335]\n"
     ]
    }
   ],
   "source": [
    "# TEST\n",
    "\n",
    "# let's take a sample of 25 tablets from the population\n",
    "sample1 = np.random.choice(population_tablets, 25)\n",
    "\n",
    "print(\"The mean of this sample is: {}\".format(np.mean(sample1)))\n",
    "print(\"The interval in which there is 95% probability that the true mean lies is: \")\n",
    "print(confidence_interval(sample1, 0.95, 25))"
   ]
  },
  {
   "cell_type": "code",
   "execution_count": 270,
   "metadata": {},
   "outputs": [],
   "source": [
    "# Okay, so now let's take 20 samples each of size 25\n",
    "# And let's calculate the confidence interval for each sample with 95% probability\n",
    "\n",
    "sample_size = 25\n",
    "\n",
    "intervals = []\n",
    "sample_means = []\n",
    "\n",
    "for i in range(20):\n",
    "    sample = np.random.choice(population_tablets, sample_size)\n",
    "    sample_means.append(np.mean(sample))\n",
    "    intervals.append(confidence_interval(sample, 0.95, 25))"
   ]
  },
  {
   "cell_type": "code",
   "execution_count": null,
   "metadata": {},
   "outputs": [],
   "source": []
  },
  {
   "cell_type": "code",
   "execution_count": 271,
   "metadata": {},
   "outputs": [
    {
     "data": {
      "text/plain": [
       "<matplotlib.collections.LineCollection at 0x1947598a630>"
      ]
     },
     "execution_count": 271,
     "metadata": {},
     "output_type": "execute_result"
    },
    {
     "data": {
      "image/png": "[encoded data removed]",
      "text/plain": [
       "<Figure size 648x648 with 1 Axes>"
      ]
     },
     "metadata": {
      "needs_background": "light"
     },
     "output_type": "display_data"
    }
   ],
   "source": [
    "# Now let's visualize it\n",
    "\n",
    "plt.figure(figsize=(9,9))\n",
    "\n",
    "plt.errorbar(x=np.arange(0.1, 20, 1), \n",
    "             y=sample_means, \n",
    "             yerr=[(top-bottom)/2 for top,bottom in intervals],\n",
    "             fmt='o')\n",
    "\n",
    "plt.hlines(xmin=0, xmax=20,\n",
    "           y=50, \n",
    "           linewidth=2.0,\n",
    "           color=\"red\")"
   ]
  },
  {
   "cell_type": "markdown",
   "metadata": {},
   "source": [
    "**Interpretation**\n",
    "\n",
    "95% of 20 is 19, and we can see that 19 intervals contain the true mean."
   ]
  },
  {
   "cell_type": "markdown",
   "metadata": {},
   "source": [
    "**Confidence Intervals Using the t Distribution**\n",
    "\n",
    "In most situations in which confidence intervals are computed, $\\sigma$, the true standard deviation,\n",
    "is unknown, but is estimated from the sample data. A confidence interval can still be computed\n",
    "based on the sample standard deviation, S. However, the interval based on the sample standard\n",
    "deviation will tend to be wider than that computed with a known standard deviation. This is\n",
    "reasonable because if the population standard deviation is not known, one has less knowledge of the true\n",
    "distribution and consequently less assurance of the location of the mean.\n",
    "The computation of the confidence interval in cases where the standard deviation is\n",
    "estimated from sample data is similar to the previous one except that a value of t is\n",
    "substituted for the Z value\n",
    "\n",
    "\n",
    "P% confidence interval = $X ± t*S/√N$\n"
   ]
  },
  {
   "cell_type": "markdown",
   "metadata": {},
   "source": [
    "The t-critical value is drawn from what's known as a t-distribution--a distribution that closely resembles the normal distribution but that gets wider and wider as the sample size falls. The t-distribution is available in scipy.stats with the nickname \"t\" so we can get t-critical values with stats.t.ppf(). The appropriate value of t depends on degrees of freedom (d.f.). When constructing confidence intervals for means, the d.f. are equal to N − 1, where N is the sample size."
   ]
  },
  {
   "cell_type": "code",
   "execution_count": 272,
   "metadata": {},
   "outputs": [],
   "source": [
    "# Let's create a function which gives us the confidence intervals in terms of t distribution\n",
    "\n",
    "def tscore(p, sample_size):\n",
    "    '''This calculates the t value for the given probability\n",
    "    Here, an additional argument of degrees of freedom is required'''\n",
    "    return stats.t.ppf(q=(p+1)/2, df=sample_size-1)\n",
    "    \n",
    "# confidence interval if population standard deviation is not known\n",
    "def confidence_interval_t(sample, probability):\n",
    "    sample_mean = np.mean(sample)\n",
    "    sample_size=len(sample)\n",
    "    sample_std = np.std(sample)\n",
    "    x =  tscore(probability, sample_size)*sample_std/math.sqrt(sample_size)\n",
    "    return [sample_mean+x, sample_mean-x]"
   ]
  },
  {
   "cell_type": "code",
   "execution_count": 273,
   "metadata": {},
   "outputs": [
    {
     "data": {
      "text/plain": [
       "[67.85920916180186, 52.31756915548848]"
      ]
     },
     "execution_count": 273,
     "metadata": {},
     "output_type": "execute_result"
    }
   ],
   "source": [
    "# Let's test this function\n",
    "\n",
    "# let's define a sample of size 25\n",
    "sampleX=np.random.choice(population_tablets, 25)\n",
    "\n",
    "# Let's the confidence interval with 95% probability\n",
    "confidence_interval_t(sampleX, 0.95)"
   ]
  },
  {
   "cell_type": "markdown",
   "metadata": {},
   "source": [
    "Python has a built in function to calculate the confidence interval. Let's compare our function with it."
   ]
  },
  {
   "cell_type": "code",
   "execution_count": 274,
   "metadata": {},
   "outputs": [
    {
     "data": {
      "text/plain": [
       "(52.31756915548848, 67.85920916180186)"
      ]
     },
     "execution_count": 274,
     "metadata": {},
     "output_type": "execute_result"
    }
   ],
   "source": [
    "stats.t.interval(alpha = 0.95,              # Confidence level\n",
    "                 df= 24,                    # Degrees of freedom\n",
    "                 loc = np.mean(sampleX),         # Sample mean\n",
    "                 scale = np.std(sampleX)/math.sqrt(len(sampleX)))             # Standard deviation estimate"
   ]
  },
  {
   "cell_type": "markdown",
   "metadata": {},
   "source": [
    "Voila! They give the same results. Hence our function is accurate"
   ]
  },
  {
   "cell_type": "code",
   "execution_count": null,
   "metadata": {},
   "outputs": [],
   "source": []
  }
 ],
 "metadata": {
  "kernelspec": {
   "display_name": "Python 3",
   "language": "python",
   "name": "python3"
  },
  "language_info": {
   "codemirror_mode": {
    "name": "ipython",
    "version": 3
   },
   "file_extension": ".py",
   "mimetype": "text/x-python",
   "name": "python",
   "nbconvert_exporter": "python",
   "pygments_lexer": "ipython3",
   "version": "3.7.2"
  }
 },
 "nbformat": 4,
 "nbformat_minor": 2
}
