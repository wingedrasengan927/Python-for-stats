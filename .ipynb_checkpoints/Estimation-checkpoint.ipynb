{
 "cells": [
  {
   "cell_type": "code",
   "execution_count": 38,
   "metadata": {},
   "outputs": [],
   "source": [
    "import numpy as np\n",
    "from statsmodels.distributions.empirical_distribution import ECDF\n",
    "import matplotlib.pyplot as plt\n",
    "import seaborn as sns\n",
    "%matplotlib inline"
   ]
  },
  {
   "cell_type": "markdown",
   "metadata": {},
   "source": [
    "# Estimator of Mean"
   ]
  },
  {
   "cell_type": "code",
   "execution_count": 28,
   "metadata": {},
   "outputs": [],
   "source": [
    "# let us now choose 7 samples from a normal distribution with mean 0  and standard deviation 1\n",
    "# Let's repeat this simulation 1000 times\n",
    "# let's use sample mean, and sample median as the estimator of population mean\n",
    "# and calculate the Root Mean Square Error to compare them\n",
    "\n",
    "def Estimate_Mean(n=7, m=1000):\n",
    "    mu = 0\n",
    "    sigma = 1\n",
    "    \n",
    "    median_estimates = []\n",
    "    mean_estimates = []\n",
    "    for i in range(m):\n",
    "        sample = np.random.normal(mu, sigma, n)\n",
    "        mean_estimates.append(np.mean(sample))\n",
    "        median_estimates.append(np.median(sample))\n",
    "    \n",
    "    return mean_estimates, median_estimates"
   ]
  },
  {
   "cell_type": "code",
   "execution_count": 29,
   "metadata": {},
   "outputs": [],
   "source": [
    "# now let's define a function to calculate the root mean square error\n",
    "\n",
    "def RMSE(estimates_list, actual):\n",
    "    mse = np.mean([(estimate - actual)**2 for estimate in estimates_list])\n",
    "    rmse = np.sqrt(mse)\n",
    "    return rmse"
   ]
  },
  {
   "cell_type": "code",
   "execution_count": 30,
   "metadata": {},
   "outputs": [
    {
     "name": "stdout",
     "output_type": "stream",
     "text": [
      "0.37105854492841817\n",
      "0.4426724752210138\n"
     ]
    }
   ],
   "source": [
    "# let's compare the RMSE for sample mean and sample median as estimators for population mean\n",
    "mean_estimates, median_estimates = Estimate_Mean()\n",
    "print(RMSE(mean_estimates, 0))\n",
    "print(RMSE(median_estimates, 0)) "
   ]
  },
  {
   "cell_type": "markdown",
   "metadata": {},
   "source": [
    "# Estimator of Variance"
   ]
  },
  {
   "cell_type": "code",
   "execution_count": 31,
   "metadata": {},
   "outputs": [],
   "source": [
    "# let's perform the similar simulation again\n",
    "# but now we'll estimate the population variance instead of mean\n",
    "\n",
    "def Estimator_Variance(n=7, m=1000):\n",
    "    mu = 0\n",
    "    sigma = 1\n",
    "    \n",
    "    biased_estimates = []\n",
    "    unbiased_estimates = []\n",
    "    for i in range(m):\n",
    "        sample = np.random.normal(mu, sigma, n)\n",
    "        biased_estimates.append(np.var(sample))\n",
    "        unbiased_estimates.append(np.var(sample, ddof=1))\n",
    "    \n",
    "    return biased_estimates, unbiased_estimates"
   ]
  },
  {
   "cell_type": "code",
   "execution_count": 32,
   "metadata": {},
   "outputs": [],
   "source": [
    "def Mean_Error(estimates_list, actual_value):\n",
    "    errors = [estimate - actual_value for estimate in estimates_list]\n",
    "    return np.mean(errors)"
   ]
  },
  {
   "cell_type": "code",
   "execution_count": 33,
   "metadata": {},
   "outputs": [
    {
     "name": "stdout",
     "output_type": "stream",
     "text": [
      "-0.1305156191294123\n",
      "0.014398444349018992\n"
     ]
    }
   ],
   "source": [
    "biased_estimates, unbiased_estimates = Estimator_Variance()\n",
    "print(Mean_Error(biased_estimates, 1))\n",
    "print(Mean_Error(unbiased_estimates, 1))"
   ]
  },
  {
   "cell_type": "markdown",
   "metadata": {},
   "source": [
    "# Sampling Distribution"
   ]
  },
  {
   "cell_type": "code",
   "execution_count": 34,
   "metadata": {},
   "outputs": [],
   "source": [
    "# Let's say we take a sample of 9 gorillas from a population\n",
    "# and we find the mean and standard deviation of this sample to be 90kg and 7.5kg\n",
    "\n",
    "# Now, let's ask this question, “If the actual values of μ and σ were 90 kg and\n",
    "# 7.5 kg, and we ran the same experiment many times, how much would the estimated\n",
    "# mean, x¯, vary?”\n",
    "\n",
    "def Simulate_Sample(mu=90, sigma=7.5, n=9, m=1000):\n",
    "    means=[]\n",
    "    for i in range(m):\n",
    "        sample = np.random.normal(mu, sigma, n)\n",
    "        means.append(np.mean(sample))\n",
    "        \n",
    "    return means"
   ]
  },
  {
   "cell_type": "code",
   "execution_count": 35,
   "metadata": {},
   "outputs": [
    {
     "data": {
      "text/plain": [
       "<matplotlib.axes._subplots.AxesSubplot at 0x16d77d72b38>"
      ]
     },
     "execution_count": 35,
     "metadata": {},
     "output_type": "execute_result"
    },
    {
     "data": {
      "image/png": "[encoded data removed]",
      "text/plain": [
       "<Figure size 432x288 with 1 Axes>"
      ]
     },
     "metadata": {
      "needs_background": "light"
     },
     "output_type": "display_data"
    }
   ],
   "source": [
    "means = Simulate_Sample()\n",
    "# let's plot the distribution of the estimator (sample means in this case)\n",
    "sns.distplot(means)"
   ]
  },
  {
   "cell_type": "code",
   "execution_count": 55,
   "metadata": {},
   "outputs": [
    {
     "name": "stdout",
     "output_type": "stream",
     "text": [
      "2.489995713979511\n",
      "2.4899934504381482\n"
     ]
    }
   ],
   "source": [
    "# let's compute the standard error - A measure of how far we expect the estimate to be off, on average.\n",
    "\n",
    "# one way to find this is to calculate the RMSE\n",
    "print(RMSE(means, 90))\n",
    "# Standard Error is also the standard deviation of the sampling distribution\n",
    "print(np.std(means))"
   ]
  },
  {
   "cell_type": "code",
   "execution_count": 43,
   "metadata": {},
   "outputs": [
    {
     "data": {
      "text/plain": [
       "array([85.86959977, 93.93093529])"
      ]
     },
     "execution_count": 43,
     "metadata": {},
     "output_type": "execute_result"
    }
   ],
   "source": [
    "# The interval between the 5th and 95th percentile of the sampling distribution is a\n",
    "# 90% confidence interval. If we run the experiment many times, \n",
    "# we expect the estimate to fall in this interval 90% of the time.\n",
    "np.percentile(means, [5, 95])"
   ]
  },
  {
   "cell_type": "code",
   "execution_count": null,
   "metadata": {},
   "outputs": [],
   "source": []
  },
  {
   "cell_type": "code",
   "execution_count": null,
   "metadata": {},
   "outputs": [],
   "source": []
  },
  {
   "cell_type": "code",
   "execution_count": null,
   "metadata": {},
   "outputs": [],
   "source": []
  },
  {
   "cell_type": "code",
   "execution_count": null,
   "metadata": {},
   "outputs": [],
   "source": []
  },
  {
   "cell_type": "code",
   "execution_count": null,
   "metadata": {},
   "outputs": [],
   "source": []
  },
  {
   "cell_type": "code",
   "execution_count": null,
   "metadata": {},
   "outputs": [],
   "source": []
  },
  {
   "cell_type": "markdown",
   "metadata": {},
   "source": [
    "References:\n",
    "<br>Think Stats, 2nd Edition, Allen B. Downey"
   ]
  },
  {
   "cell_type": "code",
   "execution_count": null,
   "metadata": {},
   "outputs": [],
   "source": []
  },
  {
   "cell_type": "code",
   "execution_count": null,
   "metadata": {},
   "outputs": [],
   "source": []
  },
  {
   "cell_type": "code",
   "execution_count": null,
   "metadata": {},
   "outputs": [],
   "source": []
  }
 ],
 "metadata": {
  "kernelspec": {
   "display_name": "Python 3",
   "language": "python",
   "name": "python3"
  },
  "language_info": {
   "codemirror_mode": {
    "name": "ipython",
    "version": 3
   },
   "file_extension": ".py",
   "mimetype": "text/x-python",
   "name": "python",
   "nbconvert_exporter": "python",
   "pygments_lexer": "ipython3",
   "version": "3.7.2"
  }
 },
 "nbformat": 4,
 "nbformat_minor": 2
}
