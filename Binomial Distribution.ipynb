{
 "cells": [
  {
   "cell_type": "code",
   "execution_count": 1,
   "metadata": {},
   "outputs": [],
   "source": [
    "# importing the necessary libraries\n",
    "import numpy as np\n",
    "import pandas as pd\n",
    "import matplotlib.pyplot as plt\n",
    "%matplotlib inline"
   ]
  },
  {
   "cell_type": "markdown",
   "metadata": {},
   "source": [
    "**Let us demonstrate the binomial distribution using an example**\n",
    "\n",
    "Let us perform an experiment where we administer a drug to a patient. The treatment of a single patient\n",
    "with the drug results in only one of two outcomes - Either the patient is cured or not cured, where\n",
    "the two outcomes are mutually exclusive. In addition, only one of these outcomes is possible\n",
    "after treatment. A patient cannot be both cured and not cured after treatment. This experiment is called a binomial trial. A binomial trial is a single binomial experiment or observation. Each binomial\n",
    "trial must be independent. The result of a patient’s treatment does not influence the outcome of\n",
    "the treatment for a different patient.\n",
    "\n",
    "Let's say we perform the experiment on three patients, A, B, C. So the number of binomial trials in this case is 3(N=3). the four possible results are\n",
    "1. three cures;\n",
    "2. two cures and one failure;\n",
    "3. two failures and one cure;\n",
    "4. three failures.\n",
    "\n",
    "And let's say the probability of success (the patient is cured), p=0.75. Let us perform this process 10000 times to get a more accurate result. This implies, everyday, for 10000 days straight, we perfrom 3 binomial trials and take note of the outcomes.\n",
    "\n",
    "Now let's implement it."
   ]
  },
  {
   "cell_type": "code",
   "execution_count": 2,
   "metadata": {},
   "outputs": [],
   "source": [
    "'''this says define an array of size 10000 where the data follows a binomial distribution\n",
    "with n=3 and p=0.75.'''\n",
    "\n",
    "x = np.random.binomial(n=3, p=0.75, size=10000)"
   ]
  },
  {
   "cell_type": "code",
   "execution_count": 3,
   "metadata": {},
   "outputs": [
    {
     "data": {
      "text/html": [
       "<div>\n",
       "<style scoped>\n",
       "    .dataframe tbody tr th:only-of-type {\n",
       "        vertical-align: middle;\n",
       "    }\n",
       "\n",
       "    .dataframe tbody tr th {\n",
       "        vertical-align: top;\n",
       "    }\n",
       "\n",
       "    .dataframe thead th {\n",
       "        text-align: right;\n",
       "    }\n",
       "</style>\n",
       "<table border=\"1\" class=\"dataframe\">\n",
       "  <thead>\n",
       "    <tr style=\"text-align: right;\">\n",
       "      <th></th>\n",
       "      <th>cured</th>\n",
       "      <th>not cured</th>\n",
       "    </tr>\n",
       "  </thead>\n",
       "  <tbody>\n",
       "    <tr>\n",
       "      <th>0</th>\n",
       "      <td>2</td>\n",
       "      <td>1</td>\n",
       "    </tr>\n",
       "    <tr>\n",
       "      <th>1</th>\n",
       "      <td>3</td>\n",
       "      <td>0</td>\n",
       "    </tr>\n",
       "    <tr>\n",
       "      <th>2</th>\n",
       "      <td>3</td>\n",
       "      <td>0</td>\n",
       "    </tr>\n",
       "    <tr>\n",
       "      <th>3</th>\n",
       "      <td>2</td>\n",
       "      <td>1</td>\n",
       "    </tr>\n",
       "    <tr>\n",
       "      <th>4</th>\n",
       "      <td>2</td>\n",
       "      <td>1</td>\n",
       "    </tr>\n",
       "  </tbody>\n",
       "</table>\n",
       "</div>"
      ],
      "text/plain": [
       "   cured  not cured\n",
       "0      2          1\n",
       "1      3          0\n",
       "2      3          0\n",
       "3      2          1\n",
       "4      2          1"
      ]
     },
     "execution_count": 3,
     "metadata": {},
     "output_type": "execute_result"
    }
   ],
   "source": [
    "# let's put it in a dataframe\n",
    "df = pd.DataFrame(data=x, columns=[\"cured\"])\n",
    "df[\"not cured\"] = 3-df[\"cured\"]\n",
    "df.head()"
   ]
  },
  {
   "cell_type": "code",
   "execution_count": 7,
   "metadata": {},
   "outputs": [
    {
     "data": {
      "text/plain": [
       "<matplotlib.axes._subplots.AxesSubplot at 0x1a96050a208>"
      ]
     },
     "execution_count": 7,
     "metadata": {},
     "output_type": "execute_result"
    },
    {
     "data": {
      "image/png": "[encoded data removed]",
      "text/plain": [
       "<Figure size 432x288 with 1 Axes>"
      ]
     },
     "metadata": {
      "needs_background": "light"
     },
     "output_type": "display_data"
    }
   ],
   "source": [
    "# now let's see the probability distribution\n",
    "pd = df.cured.value_counts().sort_index()/10000\n",
    "pd.plot(kind=\"bar\")"
   ]
  },
  {
   "cell_type": "code",
   "execution_count": 5,
   "metadata": {},
   "outputs": [
    {
     "data": {
      "text/plain": [
       "'From the graph, we can see that the probability that 3 patients will cure is around 0.4 '"
      ]
     },
     "execution_count": 5,
     "metadata": {},
     "output_type": "execute_result"
    }
   ],
   "source": [
    "# Let's interpret the graph\n",
    "\n",
    "'''From the graph, we can see that the probability that 3 patients will be cured is around 0.45 and is \n",
    "the highest. From this we can also find the probability that x patients will be cured out of n in different \n",
    "scenarios'''"
   ]
  }
 ],
 "metadata": {
  "kernelspec": {
   "display_name": "Python 3",
   "language": "python",
   "name": "python3"
  },
  "language_info": {
   "codemirror_mode": {
    "name": "ipython",
    "version": 3
   },
   "file_extension": ".py",
   "mimetype": "text/x-python",
   "name": "python",
   "nbconvert_exporter": "python",
   "pygments_lexer": "ipython3",
   "version": "3.7.2"
  }
 },
 "nbformat": 4,
 "nbformat_minor": 2
}
