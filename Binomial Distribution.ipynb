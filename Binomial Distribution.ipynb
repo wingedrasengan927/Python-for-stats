{
 "cells": [
  {
   "cell_type": "markdown",
   "metadata": {},
   "source": [
    "**Let us demonstrate the binomial distribution using an example**\n",
    "\n",
    "Let us perform an experiment where we administer a drug to a patient. The treatment of a single patient\n",
    "with the drug results in only one of two outcomes - Either the patient is cured or not cured, where\n",
    "the two outcomes are mutually exclusive. In addition, only one of these outcomes is possible\n",
    "after treatment. A patient cannot be both cured and not cured after treatment. This experiment is called a binomial trial. A binomial trial is a single binomial experiment or observation. Each binomial\n",
    "trial must be independent. The result of a patient’s treatment does not influence the outcome of\n",
    "the treatment for a different patient.\n",
    "\n",
    "Let's say we perform the experiment on three patients, A, B, C. So the number of binomial trials in this case is 3(N=3). the four possible results (Generally, For N trials there are N+1 results) are\n",
    "1. three cures;\n",
    "2. two cures and one failure;\n",
    "3. two failures and one cure;\n",
    "4. three failures.\n",
    "\n",
    "And let's say the probability of success (the patient is cured), p=0.75. \n",
    "\n",
    "Now, we want to know the probability of each outcome."
   ]
  },
  {
   "cell_type": "markdown",
   "metadata": {},
   "source": [
    "**Mathematical Significance**\n",
    "\n",
    "The probability of the outcome of a binomial experiment consisting of N trials can be\n",
    "computed from the expansion of the expression\n",
    "$(p + q)^N$\n",
    "\n",
    "So, in our case, it's $(p+q)^3$ which is\n",
    "* $(p + q)^3 = p^3 + 3p^2q + 3pq^2 + q^3$\n",
    "\n",
    "each coefficient gives the probability of a particular outcome. For example:\n",
    "\n",
    "* $p^3$ --> Three Cures\n",
    "* $3p^2q$ --> two cures and one failure\n",
    "* $3pq^2$ --> two failures and one cure\n",
    "* $q^3$ --> Three Failures\n",
    "\n",
    "We can also observe that p+q=1, which implies the sum of probability of all possible outcomes is 1\n",
    "\n",
    "The expansion of the binomial, $(p + q)^N$ can be generalized by a single formula:\n",
    "\n",
    "Probability of Xsuccesses in Ntrials = $(N X)p^xq^(N-x)$\n",
    "\n",
    "$(N X)$ is defined as\n",
    "$N!/(X!(N − X)!)$"
   ]
  },
  {
   "cell_type": "code",
   "execution_count": 2,
   "metadata": {},
   "outputs": [],
   "source": [
    "# Let's define a function to calculate the probability of X successes in N trials\n",
    "\n",
    "import math\n",
    "\n",
    "def combination(N, x):\n",
    "    '''To calculate NCx'''\n",
    "    return math.factorial(N)/(math.factorial(x)*math.factorial(N-x))\n",
    "\n",
    "def Binomial(N, x, p):\n",
    "    return combination(N, x)*math.pow(p, x)*math.pow(1-p, N-x)"
   ]
  },
  {
   "cell_type": "code",
   "execution_count": 3,
   "metadata": {},
   "outputs": [
    {
     "name": "stdout",
     "output_type": "stream",
     "text": [
      "0.421875\n",
      "0.421875\n",
      "0.140625\n",
      "0.015625\n"
     ]
    }
   ],
   "source": [
    "# Now let's use this function to calculate probabilities\n",
    "print(Binomial(3, 3, 0.75)) #three cures\n",
    "print(Binomial(3, 2, 0.75)) #two cures and one failure\n",
    "print(Binomial(3, 1, 0.75)) #one cures and two failure\n",
    "print(Binomial(3, 0, 0.75)) #three failures"
   ]
  },
  {
   "cell_type": "markdown",
   "metadata": {},
   "source": [
    "Now let's implement the same in python and compare the results. In pyhton, let's simulate the experiment 10000 times to get an accurate result"
   ]
  },
  {
   "cell_type": "code",
   "execution_count": 4,
   "metadata": {},
   "outputs": [],
   "source": [
    "# importing the necessary libraries\n",
    "import numpy as np\n",
    "import pandas as pd\n",
    "import matplotlib.pyplot as plt\n",
    "%matplotlib inline"
   ]
  },
  {
   "cell_type": "code",
   "execution_count": 5,
   "metadata": {},
   "outputs": [],
   "source": [
    "'''this says define an array of size 10000 where the data follows a binomial distribution\n",
    "with n=3 and p=0.75.\n",
    "\n",
    "This can also be interpreted as, Run the experiment 10000 times and give me the outcome of each experiment.\n",
    "Like for one experiemnt the outcome will be 3 success. for other it will be 2 success, 1 failure and so on...'''\n",
    "\n",
    "x = np.random.binomial(n=3, p=0.75, size=10000)"
   ]
  },
  {
   "cell_type": "code",
   "execution_count": 6,
   "metadata": {},
   "outputs": [
    {
     "data": {
      "text/html": [
       "<div>\n",
       "<style scoped>\n",
       "    .dataframe tbody tr th:only-of-type {\n",
       "        vertical-align: middle;\n",
       "    }\n",
       "\n",
       "    .dataframe tbody tr th {\n",
       "        vertical-align: top;\n",
       "    }\n",
       "\n",
       "    .dataframe thead th {\n",
       "        text-align: right;\n",
       "    }\n",
       "</style>\n",
       "<table border=\"1\" class=\"dataframe\">\n",
       "  <thead>\n",
       "    <tr style=\"text-align: right;\">\n",
       "      <th></th>\n",
       "      <th>cured</th>\n",
       "      <th>not cured</th>\n",
       "    </tr>\n",
       "  </thead>\n",
       "  <tbody>\n",
       "    <tr>\n",
       "      <th>0</th>\n",
       "      <td>1</td>\n",
       "      <td>2</td>\n",
       "    </tr>\n",
       "    <tr>\n",
       "      <th>1</th>\n",
       "      <td>3</td>\n",
       "      <td>0</td>\n",
       "    </tr>\n",
       "    <tr>\n",
       "      <th>2</th>\n",
       "      <td>2</td>\n",
       "      <td>1</td>\n",
       "    </tr>\n",
       "    <tr>\n",
       "      <th>3</th>\n",
       "      <td>2</td>\n",
       "      <td>1</td>\n",
       "    </tr>\n",
       "    <tr>\n",
       "      <th>4</th>\n",
       "      <td>2</td>\n",
       "      <td>1</td>\n",
       "    </tr>\n",
       "  </tbody>\n",
       "</table>\n",
       "</div>"
      ],
      "text/plain": [
       "   cured  not cured\n",
       "0      1          2\n",
       "1      3          0\n",
       "2      2          1\n",
       "3      2          1\n",
       "4      2          1"
      ]
     },
     "execution_count": 6,
     "metadata": {},
     "output_type": "execute_result"
    }
   ],
   "source": [
    "# let's put it in a dataframe\n",
    "df = pd.DataFrame(data=x, columns=[\"cured\"])\n",
    "df[\"not cured\"] = 3-df[\"cured\"]\n",
    "df.head()"
   ]
  },
  {
   "cell_type": "code",
   "execution_count": 7,
   "metadata": {},
   "outputs": [
    {
     "data": {
      "text/plain": [
       "<matplotlib.axes._subplots.AxesSubplot at 0x216fc846cc0>"
      ]
     },
     "execution_count": 7,
     "metadata": {},
     "output_type": "execute_result"
    },
    {
     "data": {
      "image/png": "[encoded data removed]",
      "text/plain": [
       "<Figure size 432x288 with 1 Axes>"
      ]
     },
     "metadata": {
      "needs_background": "light"
     },
     "output_type": "display_data"
    }
   ],
   "source": [
    "# now let's see the probability distribution\n",
    "pd = df.cured.value_counts().sort_index()/10000\n",
    "pd.plot(kind=\"bar\")"
   ]
  },
  {
   "cell_type": "markdown",
   "metadata": {},
   "source": [
    "Hence, we can see, both give almost the same results"
   ]
  },
  {
   "cell_type": "code",
   "execution_count": null,
   "metadata": {},
   "outputs": [],
   "source": []
  },
  {
   "cell_type": "code",
   "execution_count": null,
   "metadata": {},
   "outputs": [],
   "source": []
  },
  {
   "cell_type": "code",
   "execution_count": null,
   "metadata": {},
   "outputs": [],
   "source": []
  },
  {
   "cell_type": "code",
   "execution_count": null,
   "metadata": {},
   "outputs": [],
   "source": []
  },
  {
   "cell_type": "code",
   "execution_count": null,
   "metadata": {},
   "outputs": [],
   "source": []
  }
 ],
 "metadata": {
  "kernelspec": {
   "display_name": "Python 3",
   "language": "python",
   "name": "python3"
  },
  "language_info": {
   "codemirror_mode": {
    "name": "ipython",
    "version": 3
   },
   "file_extension": ".py",
   "mimetype": "text/x-python",
   "name": "python",
   "nbconvert_exporter": "python",
   "pygments_lexer": "ipython3",
   "version": "3.7.2"
  }
 },
 "nbformat": 4,
 "nbformat_minor": 2
}
