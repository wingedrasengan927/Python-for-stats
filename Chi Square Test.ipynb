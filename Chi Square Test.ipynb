{
 "cells": [
  {
   "cell_type": "markdown",
   "metadata": {},
   "source": [
    "# Chi Square Test"
   ]
  },
  {
   "cell_type": "markdown",
   "metadata": {},
   "source": [
    "Chi Square test is used for categorical variables such as hair color, academic degree etc\n"
   ]
  },
  {
   "cell_type": "markdown",
   "metadata": {},
   "source": [
    "**Contingency Table or Cross tabulations**\n",
    "\n",
    "We may wish to look at a summary of a categorical variable as it pertains to another categorical variable. For example, sex and interest, where interest may have the labels ‘science‘, ‘math‘, or ‘art‘. We can collect observations from people with regard to these two categorical variables;\n",
    "\n",
    "We can summarize the collected observations in a table with one variable corresponding to columns and another variable corresponding to rows. Each cell in the table corresponds to the count or frequency of observations that correspond to the row and column categories.\n",
    "\n",
    "Historically, a table summarization of two categorical variables in this form is called a contingency table."
   ]
  },
  {
   "cell_type": "code",
   "execution_count": 1,
   "metadata": {},
   "outputs": [],
   "source": [
    "import pandas as pd\n",
    "import numpy as np\n",
    "import matplotlib.pyplot as plt\n",
    "import seaborn as sns"
   ]
  },
  {
   "cell_type": "code",
   "execution_count": 2,
   "metadata": {},
   "outputs": [],
   "source": [
    "# For example, the Sex=rows and Interest=columns table with contrived counts might look as follows:\n",
    "data = [[20, 30, 15], [20, 15, 30]]"
   ]
  },
  {
   "cell_type": "code",
   "execution_count": 3,
   "metadata": {},
   "outputs": [
    {
     "data": {
      "text/html": [
       "<div>\n",
       "<style scoped>\n",
       "    .dataframe tbody tr th:only-of-type {\n",
       "        vertical-align: middle;\n",
       "    }\n",
       "\n",
       "    .dataframe tbody tr th {\n",
       "        vertical-align: top;\n",
       "    }\n",
       "\n",
       "    .dataframe thead th {\n",
       "        text-align: right;\n",
       "    }\n",
       "</style>\n",
       "<table border=\"1\" class=\"dataframe\">\n",
       "  <thead>\n",
       "    <tr style=\"text-align: right;\">\n",
       "      <th></th>\n",
       "      <th>Science</th>\n",
       "      <th>Math</th>\n",
       "      <th>Art</th>\n",
       "    </tr>\n",
       "  </thead>\n",
       "  <tbody>\n",
       "    <tr>\n",
       "      <th>Male</th>\n",
       "      <td>20</td>\n",
       "      <td>30</td>\n",
       "      <td>15</td>\n",
       "    </tr>\n",
       "    <tr>\n",
       "      <th>Female</th>\n",
       "      <td>20</td>\n",
       "      <td>15</td>\n",
       "      <td>30</td>\n",
       "    </tr>\n",
       "  </tbody>\n",
       "</table>\n",
       "</div>"
      ],
      "text/plain": [
       "        Science  Math  Art\n",
       "Male         20    30   15\n",
       "Female       20    15   30"
      ]
     },
     "execution_count": 3,
     "metadata": {},
     "output_type": "execute_result"
    }
   ],
   "source": [
    "interests = pd.DataFrame(data = data, columns=[\"Science\", \"Math\", \"Art\"], index=[\"Male\", \"Female\"])\n",
    "interests"
   ]
  },
  {
   "cell_type": "markdown",
   "metadata": {},
   "source": [
    "# Goodness fit test"
   ]
  },
  {
   "cell_type": "markdown",
   "metadata": {},
   "source": [
    "Generally, statistical tests take the form:\n",
    "<br>*test statistic = (Observed value - What we expect if the null is true)/Average Variation*"
   ]
  },
  {
   "cell_type": "markdown",
   "metadata": {},
   "source": [
    "Chi Square test is slightly different. \n",
    "<br>the numerator is exactly the same but the denominator - Average Variation is a little Different\n",
    "<br>Let's see why with an example"
   ]
  },
  {
   "cell_type": "markdown",
   "metadata": {},
   "source": [
    "**Example**\n",
    "\n",
    "A new game has come out called the league of lemurs. It has hundreds of different unique characters you can play with four different types: Healers, tanks, assasins and fighters.\n",
    "<br> The official league of lemurs development team says that on average they see 15% players choosing healers, 20% choosing tanks, 20% choosing assassins and 45% choosing fighters, but you wonder whether that distribution is true and you wish to perform a statistical test.\n",
    "\n",
    "*null hypothesis: the percentages that LOL gave you are correct*<br>\n",
    "*alternate hypothesis: atleast one of these percentages are incorrect*\n",
    "\n",
    "Now you record 20 games with 10 players each and count the number of healers, tanks, assasins and fighters.\n",
    "<br>The total number of players in 20 games would be 20*10 = 200"
   ]
  },
  {
   "cell_type": "code",
   "execution_count": 4,
   "metadata": {},
   "outputs": [],
   "source": [
    "# This is the data you've collected \n",
    "data=[25, 35, 50, 90]\n",
    "x={}\n",
    "columns=[\"Healer\", \"Tanks\", \"Assasins\", \"Fighter\"]\n",
    "for i in range(4):\n",
    "    x[columns[i]] = data[i]\n",
    "lol = pd.DataFrame(x, index=[\"count\"])"
   ]
  },
  {
   "cell_type": "code",
   "execution_count": 5,
   "metadata": {},
   "outputs": [
    {
     "data": {
      "text/html": [
       "<div>\n",
       "<style scoped>\n",
       "    .dataframe tbody tr th:only-of-type {\n",
       "        vertical-align: middle;\n",
       "    }\n",
       "\n",
       "    .dataframe tbody tr th {\n",
       "        vertical-align: top;\n",
       "    }\n",
       "\n",
       "    .dataframe thead th {\n",
       "        text-align: right;\n",
       "    }\n",
       "</style>\n",
       "<table border=\"1\" class=\"dataframe\">\n",
       "  <thead>\n",
       "    <tr style=\"text-align: right;\">\n",
       "      <th></th>\n",
       "      <th>Healer</th>\n",
       "      <th>Tanks</th>\n",
       "      <th>Assasins</th>\n",
       "      <th>Fighter</th>\n",
       "    </tr>\n",
       "  </thead>\n",
       "  <tbody>\n",
       "    <tr>\n",
       "      <th>count</th>\n",
       "      <td>25</td>\n",
       "      <td>35</td>\n",
       "      <td>50</td>\n",
       "      <td>90</td>\n",
       "    </tr>\n",
       "  </tbody>\n",
       "</table>\n",
       "</div>"
      ],
      "text/plain": [
       "       Healer  Tanks  Assasins  Fighter\n",
       "count      25     35        50       90"
      ]
     },
     "execution_count": 5,
     "metadata": {},
     "output_type": "execute_result"
    }
   ],
   "source": [
    "lol"
   ]
  },
  {
   "cell_type": "code",
   "execution_count": 6,
   "metadata": {},
   "outputs": [],
   "source": [
    "# if we use the numbers given by LOL developers,\n",
    "# our data would be\n",
    "data1 = [200*.15, 200*.20, 200*0.20, 200*0.45]\n",
    "y = {}\n",
    "for i in range(4):\n",
    "    y[columns[i]] = data1[i]\n",
    "lol_dev = pd.DataFrame(y, index = [\"count\"])"
   ]
  },
  {
   "cell_type": "code",
   "execution_count": 7,
   "metadata": {},
   "outputs": [
    {
     "data": {
      "text/html": [
       "<div>\n",
       "<style scoped>\n",
       "    .dataframe tbody tr th:only-of-type {\n",
       "        vertical-align: middle;\n",
       "    }\n",
       "\n",
       "    .dataframe tbody tr th {\n",
       "        vertical-align: top;\n",
       "    }\n",
       "\n",
       "    .dataframe thead th {\n",
       "        text-align: right;\n",
       "    }\n",
       "</style>\n",
       "<table border=\"1\" class=\"dataframe\">\n",
       "  <thead>\n",
       "    <tr style=\"text-align: right;\">\n",
       "      <th></th>\n",
       "      <th>Healer</th>\n",
       "      <th>Tanks</th>\n",
       "      <th>Assasins</th>\n",
       "      <th>Fighter</th>\n",
       "    </tr>\n",
       "  </thead>\n",
       "  <tbody>\n",
       "    <tr>\n",
       "      <th>count</th>\n",
       "      <td>30.0</td>\n",
       "      <td>40.0</td>\n",
       "      <td>40.0</td>\n",
       "      <td>90.0</td>\n",
       "    </tr>\n",
       "  </tbody>\n",
       "</table>\n",
       "</div>"
      ],
      "text/plain": [
       "       Healer  Tanks  Assasins  Fighter\n",
       "count    30.0   40.0      40.0     90.0"
      ]
     },
     "execution_count": 7,
     "metadata": {},
     "output_type": "execute_result"
    }
   ],
   "source": [
    "lol_dev"
   ]
  },
  {
   "cell_type": "markdown",
   "metadata": {},
   "source": [
    "So you can see that these numbers aren't exactly the same.\n",
    "<br>But you have to ask yourself whether they're different enough for us to consider it to be statistically significant.\n",
    "<br>We need a test statistic"
   ]
  },
  {
   "cell_type": "markdown",
   "metadata": {},
   "source": [
    "Using our general formula, the numerator would be $(observed value - expected value)$\n",
    "<br>but if you try to add up all these differences, you'd always get zero.\n",
    "<br>since the total count is the same in both the samples."
   ]
  },
  {
   "cell_type": "code",
   "execution_count": 8,
   "metadata": {},
   "outputs": [
    {
     "data": {
      "text/plain": [
       "0.0"
      ]
     },
     "execution_count": 8,
     "metadata": {},
     "output_type": "execute_result"
    }
   ],
   "source": [
    "# let's add the differences\n",
    "sum(lol.loc[\"count\"] - lol_dev.loc[\"count\"]) # it's equal to zero"
   ]
  },
  {
   "cell_type": "markdown",
   "metadata": {},
   "source": [
    "As we can see, we need a better way to measure.\n",
    "<br>using a chi square, we square them up before adding them up\n",
    "\n",
    "Now, for the denominator, instead of standard error, we just use the expected counts again.\n",
    "\n",
    "**Why?**\n",
    "<br>*Because the amount that a count deviates from it's expected frequency should be scaled by the expected frequency.*\n",
    "\n",
    "*for example,*\n",
    "<br>A deviation of 1 is'nt a big deal if the expected count is 2000. But if it's 10, that deviation of 1 matters more.\n",
    "<br>Hence the need to scale the data\n",
    "\n",
    "Now, the test statistic is:\n",
    "<br>$(observed value1 - expected value1)^2/expected value1$ + $(observed value2 - expected value2)^2/expected value2$ + ....\n"
   ]
  },
  {
   "cell_type": "code",
   "execution_count": 9,
   "metadata": {},
   "outputs": [
    {
     "data": {
      "text/plain": [
       "3.9583333333333335"
      ]
     },
     "execution_count": 9,
     "metadata": {},
     "output_type": "execute_result"
    }
   ],
   "source": [
    "# let's calculate the statistic\n",
    "st = (lol.loc[\"count\"]-lol_dev.loc[\"count\"])**2/lol_dev.loc[\"count\"]\n",
    "st.sum()"
   ]
  },
  {
   "cell_type": "markdown",
   "metadata": {},
   "source": [
    "Like a t-statistic, a chi-square statistic has a distribution we can use to find the p value.\n",
    "<br>And like t distributions, chi-square distributions change their shape as the degrees of freedom change.\n",
    "\n",
    "*To find the degrees of freedom, we have to think about what kind of independent information we have.*\n",
    "\n",
    "A frequency table, like the one we just used for our LOL example, has a certain number of cells. We have 4 cells in this case.\n",
    "\n",
    "That means we have 4 independent pieces of information. each of the 4 counts.\n",
    "<br>But as soon as we know the total counts - 200 in this case, The four values are aren't ALL independent anymore.\n",
    "<br>because if you know three of the values and the total, you can find the fourth one.\n",
    "\n",
    "So, in this case, the degrees of freedom is the number of categories we have minus one.\n",
    "<br>4-1=3"
   ]
  },
  {
   "cell_type": "markdown",
   "metadata": {},
   "source": [
    "Using our chi square distribution with 3 degrees of freedom, we can find our p value.\n",
    "<br>Our p value here is 0.26 Hence, we've failed to reject the null.\n",
    "<br>The sample we took didn't give us any statistically significant evidence that the game developers' percentages were wrong."
   ]
  },
  {
   "cell_type": "code",
   "execution_count": 10,
   "metadata": {},
   "outputs": [
    {
     "data": {
      "text/plain": [
       "Power_divergenceResult(statistic=3.9583333333333335, pvalue=0.26599866994096394)"
      ]
     },
     "execution_count": 10,
     "metadata": {},
     "output_type": "execute_result"
    }
   ],
   "source": [
    "# let's implement this in python\n",
    "\n",
    "from scipy import stats\n",
    " \n",
    "stats.chisquare(lol.loc[\"count\"], f_exp=lol_dev.loc[\"count\"]) # it's the same"
   ]
  },
  {
   "cell_type": "markdown",
   "metadata": {},
   "source": [
    "All chi square tests follow the same formula we just worked through."
   ]
  },
  {
   "cell_type": "markdown",
   "metadata": {},
   "source": [
    "The one we did just before is called the goodness of fit test, because we tested how well certain proportions fit our sample.\n",
    "<br>One way to know that you're looking at a goodness of fit chi square test is if it has only one row.\n",
    "<br>we can have many categories but we're only looking at one variable. like in our case, character class.\n",
    "\n",
    "**Note:** One Thing we should always check when doing a chi-square test is whether the expected frequency for every cell is greater than 5.\n",
    "<br>If the expected frequency is lower than 5, then the results can be quite off"
   ]
  },
  {
   "cell_type": "markdown",
   "metadata": {},
   "source": [
    "Chi-Square tests aren't limited to analyzing just ONE categorical variable.\n",
    "<br>They can even handle two.\n",
    "\n",
    "This second type of chi square test is called the test of independence."
   ]
  },
  {
   "cell_type": "markdown",
   "metadata": {},
   "source": [
    "# Test of Independence"
   ]
  },
  {
   "cell_type": "markdown",
   "metadata": {},
   "source": [
    "Tests of Independence look to see whether one category is independent of the other.\n",
    "<br>It is a hypothesis test that answers the question—do the values of one categorical variable depend on the value of other categorical variables?\n",
    "\n",
    "The Null and alternate hypotheses would be:\n",
    "<br>**Null hypothesis:** There are no relationships between the categorical variables. If you know the value of one variable, it does not help you predict the value of another variable.\n",
    "<br>**Alternative hypothesis:** There are relationships between the categorical variables. Knowing the value of one variable does help you predict the value of another variable."
   ]
  },
  {
   "cell_type": "markdown",
   "metadata": {},
   "source": [
    "**Example**\n",
    "<br>Let's ask a couple of harry potter fans which house they like and whether they like pineapple on pizza.\n",
    "<br>What we want to know is whether the pineapple on pizza preference is independent of the hogwarts house.\n",
    "<br>In other words, Does liking a pineapple on pizza affect the probability of you identifying with each of the houses."
   ]
  },
  {
   "cell_type": "code",
   "execution_count": 11,
   "metadata": {},
   "outputs": [
    {
     "data": {
      "text/html": [
       "<div>\n",
       "<style scoped>\n",
       "    .dataframe tbody tr th:only-of-type {\n",
       "        vertical-align: middle;\n",
       "    }\n",
       "\n",
       "    .dataframe tbody tr th {\n",
       "        vertical-align: top;\n",
       "    }\n",
       "\n",
       "    .dataframe thead th {\n",
       "        text-align: right;\n",
       "    }\n",
       "</style>\n",
       "<table border=\"1\" class=\"dataframe\">\n",
       "  <thead>\n",
       "    <tr style=\"text-align: right;\">\n",
       "      <th></th>\n",
       "      <th>Gryffindor</th>\n",
       "      <th>Hufflepuff</th>\n",
       "      <th>Ravenclaw</th>\n",
       "      <th>Slytherin</th>\n",
       "    </tr>\n",
       "    <tr>\n",
       "      <th>Like Pineapple Pizza?</th>\n",
       "      <th></th>\n",
       "      <th></th>\n",
       "      <th></th>\n",
       "      <th></th>\n",
       "    </tr>\n",
       "  </thead>\n",
       "  <tbody>\n",
       "    <tr>\n",
       "      <th>No</th>\n",
       "      <td>79</td>\n",
       "      <td>122</td>\n",
       "      <td>204</td>\n",
       "      <td>74</td>\n",
       "    </tr>\n",
       "    <tr>\n",
       "      <th>Yes</th>\n",
       "      <td>82</td>\n",
       "      <td>130</td>\n",
       "      <td>240</td>\n",
       "      <td>69</td>\n",
       "    </tr>\n",
       "  </tbody>\n",
       "</table>\n",
       "</div>"
      ],
      "text/plain": [
       "                       Gryffindor  Hufflepuff  Ravenclaw  Slytherin\n",
       "Like Pineapple Pizza?                                              \n",
       "No                             79         122        204         74\n",
       "Yes                            82         130        240         69"
      ]
     },
     "execution_count": 11,
     "metadata": {},
     "output_type": "execute_result"
    }
   ],
   "source": [
    "# let's look at the data\n",
    "\n",
    "count = [[79, 122, 204, 74], [82, 130, 240, 69]]\n",
    "pizza = pd.DataFrame(data=count, columns=[\"Gryffindor\", \"Hufflepuff\", \"Ravenclaw\", \"Slytherin\"],\n",
    "                    index = [\"No\", \"Yes\"])\n",
    "pizza.index.rename(\"Like Pineapple Pizza?\", inplace=True)\n",
    "pizza"
   ]
  },
  {
   "cell_type": "markdown",
   "metadata": {},
   "source": [
    "Unlike our chi-square goodness of fit test, we're not specifying an exact distribution for our hogwarts houses and comparing our two groups: Yes pineapple and no pineapple.\n",
    "<br>In this situation, we're not too conerned about the exact distribution.\n",
    "<br>We just want to know whether it's different for people who like pineapple and for those who don't.\n",
    "\n",
    "A chi-square test of independence can test whether or not one variable - pineapple preference - is independent of another - hogwarts house."
   ]
  },
  {
   "cell_type": "markdown",
   "metadata": {},
   "source": [
    "To calculate our chi-square statistic, we need our observed frequencies which we already have, and our expected frequencies which we need to calculate."
   ]
  },
  {
   "cell_type": "code",
   "execution_count": 12,
   "metadata": {},
   "outputs": [],
   "source": [
    "# let's take the sum of the counts\n",
    "pizza.loc[\"Count\"] = [pizza.iloc[:, i].sum() for i in range(4)]"
   ]
  },
  {
   "cell_type": "code",
   "execution_count": 13,
   "metadata": {},
   "outputs": [
    {
     "data": {
      "text/html": [
       "<div>\n",
       "<style scoped>\n",
       "    .dataframe tbody tr th:only-of-type {\n",
       "        vertical-align: middle;\n",
       "    }\n",
       "\n",
       "    .dataframe tbody tr th {\n",
       "        vertical-align: top;\n",
       "    }\n",
       "\n",
       "    .dataframe thead th {\n",
       "        text-align: right;\n",
       "    }\n",
       "</style>\n",
       "<table border=\"1\" class=\"dataframe\">\n",
       "  <thead>\n",
       "    <tr style=\"text-align: right;\">\n",
       "      <th></th>\n",
       "      <th>Gryffindor</th>\n",
       "      <th>Hufflepuff</th>\n",
       "      <th>Ravenclaw</th>\n",
       "      <th>Slytherin</th>\n",
       "      <th>Count</th>\n",
       "    </tr>\n",
       "    <tr>\n",
       "      <th>Like Pineapple Pizza?</th>\n",
       "      <th></th>\n",
       "      <th></th>\n",
       "      <th></th>\n",
       "      <th></th>\n",
       "      <th></th>\n",
       "    </tr>\n",
       "  </thead>\n",
       "  <tbody>\n",
       "    <tr>\n",
       "      <th>No</th>\n",
       "      <td>79</td>\n",
       "      <td>122</td>\n",
       "      <td>204</td>\n",
       "      <td>74</td>\n",
       "      <td>479</td>\n",
       "    </tr>\n",
       "    <tr>\n",
       "      <th>Yes</th>\n",
       "      <td>82</td>\n",
       "      <td>130</td>\n",
       "      <td>240</td>\n",
       "      <td>69</td>\n",
       "      <td>521</td>\n",
       "    </tr>\n",
       "    <tr>\n",
       "      <th>Count</th>\n",
       "      <td>161</td>\n",
       "      <td>252</td>\n",
       "      <td>444</td>\n",
       "      <td>143</td>\n",
       "      <td>1000</td>\n",
       "    </tr>\n",
       "  </tbody>\n",
       "</table>\n",
       "</div>"
      ],
      "text/plain": [
       "                       Gryffindor  Hufflepuff  Ravenclaw  Slytherin  Count\n",
       "Like Pineapple Pizza?                                                     \n",
       "No                             79         122        204         74    479\n",
       "Yes                            82         130        240         69    521\n",
       "Count                         161         252        444        143   1000"
      ]
     },
     "execution_count": 13,
     "metadata": {},
     "output_type": "execute_result"
    }
   ],
   "source": [
    "pizza[\"Count\"] = [pizza.iloc[i, :].sum() for i in range(3)]\n",
    "pizza"
   ]
  },
  {
   "cell_type": "markdown",
   "metadata": {},
   "source": [
    "Next, we need to calculate our degrees of freedom.\n",
    "<br>In general, The degrees of freedom for the chi-squared distribution is calculated based on the size of the contingency table as:\n",
    "<br>degrees of freedom= (rows - 1) * (cols - 1)"
   ]
  },
  {
   "cell_type": "markdown",
   "metadata": {},
   "source": [
    "**Calculation of expected frequencies**\n",
    "<br>Remember the expected counts are what we would expect if the null hypothesis were true i.e no relationship exists between the categorical variables.\n",
    "\n",
    "Now, expected count of people who do not like pineapple on pizza and belong to gryffindor is:\n",
    "<br>Total number of people * (Probability that He Belongs to gryffindor given that he doesn't like pineapple on pizza)\n",
    "\n",
    "It can be represented as:\n",
    "<br>$Total Count * P(Gryffindor/NoPizza)$\n",
    "\n",
    "Now, since we assumed that the null hypothesis is true and no relationship exists,\n",
    "<br>$P(Gryffindor/NoPizza) = P(Gryffindor) * P(NoPizza)$\n",
    "\n",
    "Now, in our example:\n",
    "<br>$P(Gryffindor)$ = People in Gryffindor/Total Number of people\n",
    "<br> 161/1000 = 0.161\n",
    "<br>$P(NoPizza)$ = People who do not like pizza/Total Number of people\n",
    "<br>479/1000 = 0.479\n",
    "\n",
    "Hence, \n",
    "<br>$P(Gryffindor/NoPizza)$ = 0.161*0.479 = 0.0771\n",
    "\n",
    "Hence, expected count of people who do not like pineapple on pizza and belong to gryffindor is: \n",
    "<br>1000*0.0771 = 77.1\n",
    "\n",
    "Using the same math, we can calculate the expected frequency for all our cells."
   ]
  },
  {
   "cell_type": "code",
   "execution_count": 14,
   "metadata": {},
   "outputs": [],
   "source": [
    "# let's calculate the expected frequencies\n",
    "pizza_exp = pizza.copy()\n",
    "pizza_exp.loc[\"ratio\"] = pizza_exp.loc[\"Count\"]/pizza_exp.iloc[2, :-1].sum()"
   ]
  },
  {
   "cell_type": "code",
   "execution_count": 15,
   "metadata": {},
   "outputs": [
    {
     "data": {
      "text/html": [
       "<div>\n",
       "<style scoped>\n",
       "    .dataframe tbody tr th:only-of-type {\n",
       "        vertical-align: middle;\n",
       "    }\n",
       "\n",
       "    .dataframe tbody tr th {\n",
       "        vertical-align: top;\n",
       "    }\n",
       "\n",
       "    .dataframe thead th {\n",
       "        text-align: right;\n",
       "    }\n",
       "</style>\n",
       "<table border=\"1\" class=\"dataframe\">\n",
       "  <thead>\n",
       "    <tr style=\"text-align: right;\">\n",
       "      <th></th>\n",
       "      <th>Gryffindor</th>\n",
       "      <th>Hufflepuff</th>\n",
       "      <th>Ravenclaw</th>\n",
       "      <th>Slytherin</th>\n",
       "      <th>Count</th>\n",
       "    </tr>\n",
       "    <tr>\n",
       "      <th>Like Pineapple Pizza?</th>\n",
       "      <th></th>\n",
       "      <th></th>\n",
       "      <th></th>\n",
       "      <th></th>\n",
       "      <th></th>\n",
       "    </tr>\n",
       "  </thead>\n",
       "  <tbody>\n",
       "    <tr>\n",
       "      <th>No</th>\n",
       "      <td>79.000</td>\n",
       "      <td>122.000</td>\n",
       "      <td>204.000</td>\n",
       "      <td>74.000</td>\n",
       "      <td>479.0</td>\n",
       "    </tr>\n",
       "    <tr>\n",
       "      <th>Yes</th>\n",
       "      <td>82.000</td>\n",
       "      <td>130.000</td>\n",
       "      <td>240.000</td>\n",
       "      <td>69.000</td>\n",
       "      <td>521.0</td>\n",
       "    </tr>\n",
       "    <tr>\n",
       "      <th>Count</th>\n",
       "      <td>161.000</td>\n",
       "      <td>252.000</td>\n",
       "      <td>444.000</td>\n",
       "      <td>143.000</td>\n",
       "      <td>1000.0</td>\n",
       "    </tr>\n",
       "    <tr>\n",
       "      <th>ratio</th>\n",
       "      <td>0.161</td>\n",
       "      <td>0.252</td>\n",
       "      <td>0.444</td>\n",
       "      <td>0.143</td>\n",
       "      <td>1.0</td>\n",
       "    </tr>\n",
       "  </tbody>\n",
       "</table>\n",
       "</div>"
      ],
      "text/plain": [
       "                       Gryffindor  Hufflepuff  Ravenclaw  Slytherin   Count\n",
       "Like Pineapple Pizza?                                                      \n",
       "No                         79.000     122.000    204.000     74.000   479.0\n",
       "Yes                        82.000     130.000    240.000     69.000   521.0\n",
       "Count                     161.000     252.000    444.000    143.000  1000.0\n",
       "ratio                       0.161       0.252      0.444      0.143     1.0"
      ]
     },
     "execution_count": 15,
     "metadata": {},
     "output_type": "execute_result"
    }
   ],
   "source": [
    "pizza_exp"
   ]
  },
  {
   "cell_type": "code",
   "execution_count": 16,
   "metadata": {},
   "outputs": [
    {
     "data": {
      "text/html": [
       "<div>\n",
       "<style scoped>\n",
       "    .dataframe tbody tr th:only-of-type {\n",
       "        vertical-align: middle;\n",
       "    }\n",
       "\n",
       "    .dataframe tbody tr th {\n",
       "        vertical-align: top;\n",
       "    }\n",
       "\n",
       "    .dataframe thead th {\n",
       "        text-align: right;\n",
       "    }\n",
       "</style>\n",
       "<table border=\"1\" class=\"dataframe\">\n",
       "  <thead>\n",
       "    <tr style=\"text-align: right;\">\n",
       "      <th></th>\n",
       "      <th>Gryffindor</th>\n",
       "      <th>Hufflepuff</th>\n",
       "      <th>Ravenclaw</th>\n",
       "      <th>Slytherin</th>\n",
       "      <th>Count</th>\n",
       "    </tr>\n",
       "    <tr>\n",
       "      <th>Like Pineapple Pizza?</th>\n",
       "      <th></th>\n",
       "      <th></th>\n",
       "      <th></th>\n",
       "      <th></th>\n",
       "      <th></th>\n",
       "    </tr>\n",
       "  </thead>\n",
       "  <tbody>\n",
       "    <tr>\n",
       "      <th>No</th>\n",
       "      <td>77.119</td>\n",
       "      <td>120.708</td>\n",
       "      <td>212.676</td>\n",
       "      <td>68.497</td>\n",
       "      <td>479.0</td>\n",
       "    </tr>\n",
       "    <tr>\n",
       "      <th>Yes</th>\n",
       "      <td>83.881</td>\n",
       "      <td>131.292</td>\n",
       "      <td>231.324</td>\n",
       "      <td>74.503</td>\n",
       "      <td>521.0</td>\n",
       "    </tr>\n",
       "    <tr>\n",
       "      <th>Count</th>\n",
       "      <td>161.000</td>\n",
       "      <td>252.000</td>\n",
       "      <td>444.000</td>\n",
       "      <td>143.000</td>\n",
       "      <td>1000.0</td>\n",
       "    </tr>\n",
       "    <tr>\n",
       "      <th>ratio</th>\n",
       "      <td>0.161</td>\n",
       "      <td>0.252</td>\n",
       "      <td>0.444</td>\n",
       "      <td>0.143</td>\n",
       "      <td>1.0</td>\n",
       "    </tr>\n",
       "  </tbody>\n",
       "</table>\n",
       "</div>"
      ],
      "text/plain": [
       "                       Gryffindor  Hufflepuff  Ravenclaw  Slytherin   Count\n",
       "Like Pineapple Pizza?                                                      \n",
       "No                         77.119     120.708    212.676     68.497   479.0\n",
       "Yes                        83.881     131.292    231.324     74.503   521.0\n",
       "Count                     161.000     252.000    444.000    143.000  1000.0\n",
       "ratio                       0.161       0.252      0.444      0.143     1.0"
      ]
     },
     "execution_count": 16,
     "metadata": {},
     "output_type": "execute_result"
    }
   ],
   "source": [
    "for row in range(2):\n",
    "    for column in range(4):\n",
    "        pizza_exp.iloc[row, column] = pizza_exp.loc[\"ratio\"][column]*pizza_exp[\"Count\"][row]\n",
    "pizza_exp # this is the expected frequency table"
   ]
  },
  {
   "cell_type": "markdown",
   "metadata": {},
   "source": [
    "Once we have the expected frequency, we just have to use chi square formula on each cell, and then add them all up to get our chi-square statistic."
   ]
  },
  {
   "cell_type": "code",
   "execution_count": 24,
   "metadata": {},
   "outputs": [
    {
     "data": {
      "text/html": [
       "<div>\n",
       "<style scoped>\n",
       "    .dataframe tbody tr th:only-of-type {\n",
       "        vertical-align: middle;\n",
       "    }\n",
       "\n",
       "    .dataframe tbody tr th {\n",
       "        vertical-align: top;\n",
       "    }\n",
       "\n",
       "    .dataframe thead th {\n",
       "        text-align: right;\n",
       "    }\n",
       "</style>\n",
       "<table border=\"1\" class=\"dataframe\">\n",
       "  <thead>\n",
       "    <tr style=\"text-align: right;\">\n",
       "      <th></th>\n",
       "      <th>Gryffindor</th>\n",
       "      <th>Hufflepuff</th>\n",
       "      <th>Ravenclaw</th>\n",
       "      <th>Slytherin</th>\n",
       "    </tr>\n",
       "    <tr>\n",
       "      <th>Like Pineapple Pizza?</th>\n",
       "      <th></th>\n",
       "      <th></th>\n",
       "      <th></th>\n",
       "      <th></th>\n",
       "    </tr>\n",
       "  </thead>\n",
       "  <tbody>\n",
       "    <tr>\n",
       "      <th>No</th>\n",
       "      <td>79</td>\n",
       "      <td>122</td>\n",
       "      <td>204</td>\n",
       "      <td>74</td>\n",
       "    </tr>\n",
       "    <tr>\n",
       "      <th>Yes</th>\n",
       "      <td>82</td>\n",
       "      <td>130</td>\n",
       "      <td>240</td>\n",
       "      <td>69</td>\n",
       "    </tr>\n",
       "  </tbody>\n",
       "</table>\n",
       "</div>"
      ],
      "text/plain": [
       "                       Gryffindor  Hufflepuff  Ravenclaw  Slytherin\n",
       "Like Pineapple Pizza?                                              \n",
       "No                             79         122        204         74\n",
       "Yes                            82         130        240         69"
      ]
     },
     "execution_count": 24,
     "metadata": {},
     "output_type": "execute_result"
    }
   ],
   "source": [
    "# calculation of chi-square statistic\n",
    "\n",
    "x = pizza.drop([\"Count\"])\n",
    "x.drop([\"Count\"], axis =1, inplace=True)\n",
    "x"
   ]
  },
  {
   "cell_type": "code",
   "execution_count": 27,
   "metadata": {},
   "outputs": [
    {
     "data": {
      "text/html": [
       "<div>\n",
       "<style scoped>\n",
       "    .dataframe tbody tr th:only-of-type {\n",
       "        vertical-align: middle;\n",
       "    }\n",
       "\n",
       "    .dataframe tbody tr th {\n",
       "        vertical-align: top;\n",
       "    }\n",
       "\n",
       "    .dataframe thead th {\n",
       "        text-align: right;\n",
       "    }\n",
       "</style>\n",
       "<table border=\"1\" class=\"dataframe\">\n",
       "  <thead>\n",
       "    <tr style=\"text-align: right;\">\n",
       "      <th></th>\n",
       "      <th>Gryffindor</th>\n",
       "      <th>Hufflepuff</th>\n",
       "      <th>Ravenclaw</th>\n",
       "      <th>Slytherin</th>\n",
       "    </tr>\n",
       "    <tr>\n",
       "      <th>Like Pineapple Pizza?</th>\n",
       "      <th></th>\n",
       "      <th></th>\n",
       "      <th></th>\n",
       "      <th></th>\n",
       "    </tr>\n",
       "  </thead>\n",
       "  <tbody>\n",
       "    <tr>\n",
       "      <th>No</th>\n",
       "      <td>77.119</td>\n",
       "      <td>120.708</td>\n",
       "      <td>212.676</td>\n",
       "      <td>68.497</td>\n",
       "    </tr>\n",
       "    <tr>\n",
       "      <th>Yes</th>\n",
       "      <td>83.881</td>\n",
       "      <td>131.292</td>\n",
       "      <td>231.324</td>\n",
       "      <td>74.503</td>\n",
       "    </tr>\n",
       "  </tbody>\n",
       "</table>\n",
       "</div>"
      ],
      "text/plain": [
       "                       Gryffindor  Hufflepuff  Ravenclaw  Slytherin\n",
       "Like Pineapple Pizza?                                              \n",
       "No                         77.119     120.708    212.676     68.497\n",
       "Yes                        83.881     131.292    231.324     74.503"
      ]
     },
     "execution_count": 27,
     "metadata": {},
     "output_type": "execute_result"
    }
   ],
   "source": [
    "y = pizza_exp.drop([\"ratio\", \"Count\"])\n",
    "y.drop([\"Count\"], axis=1, inplace=True)\n",
    "y"
   ]
  },
  {
   "cell_type": "markdown",
   "metadata": {},
   "source": [
    "And with our chi-square distribution with 3 degrees of freedom, we can see that our p value of 0.6 is very large and we fail to reject the null hypothesis that the distribution of hogwarts houses is the same regardless of pizza preference."
   ]
  },
  {
   "cell_type": "code",
   "execution_count": 36,
   "metadata": {},
   "outputs": [
    {
     "data": {
      "text/plain": [
       "1.6425103571002855"
      ]
     },
     "execution_count": 36,
     "metadata": {},
     "output_type": "execute_result"
    }
   ],
   "source": [
    "# calculation of chi-square statistic\n",
    "count = 0\n",
    "for i in x.columns:\n",
    "    count+=sum(((x - y)**2/y)[i])\n",
    "count"
   ]
  },
  {
   "cell_type": "code",
   "execution_count": 17,
   "metadata": {},
   "outputs": [],
   "source": [
    "# let's see this in python\n",
    "x = pizza.drop([\"Count\"])\n",
    "x.drop([\"Count\"], axis=1, inplace=True)\n",
    "stat, p, dof, expected = stats.chi2_contingency(x)"
   ]
  },
  {
   "cell_type": "code",
   "execution_count": 18,
   "metadata": {},
   "outputs": [
    {
     "data": {
      "text/plain": [
       "1.6425103571002833"
      ]
     },
     "execution_count": 18,
     "metadata": {},
     "output_type": "execute_result"
    }
   ],
   "source": [
    "# chi square statistic\n",
    "stat"
   ]
  },
  {
   "cell_type": "code",
   "execution_count": 19,
   "metadata": {},
   "outputs": [
    {
     "data": {
      "text/plain": [
       "0.6497897497574125"
      ]
     },
     "execution_count": 19,
     "metadata": {},
     "output_type": "execute_result"
    }
   ],
   "source": [
    "# p value\n",
    "p # hence we fail to reject the null"
   ]
  },
  {
   "cell_type": "code",
   "execution_count": 20,
   "metadata": {},
   "outputs": [
    {
     "data": {
      "text/plain": [
       "3"
      ]
     },
     "execution_count": 20,
     "metadata": {},
     "output_type": "execute_result"
    }
   ],
   "source": [
    "# degrees of freedom\n",
    "dof"
   ]
  },
  {
   "cell_type": "code",
   "execution_count": 21,
   "metadata": {},
   "outputs": [
    {
     "data": {
      "text/plain": [
       "array([[ 77.119, 120.708, 212.676,  68.497],\n",
       "       [ 83.881, 131.292, 231.324,  74.503]])"
      ]
     },
     "execution_count": 21,
     "metadata": {},
     "output_type": "execute_result"
    }
   ],
   "source": [
    "# expeced values\n",
    "expected"
   ]
  },
  {
   "cell_type": "markdown",
   "metadata": {},
   "source": [
    "All our values match!"
   ]
  },
  {
   "cell_type": "markdown",
   "metadata": {},
   "source": [
    "# test of homogeneity"
   ]
  },
  {
   "cell_type": "markdown",
   "metadata": {},
   "source": [
    "Test of homogeneity is looking whether it's likely that different samples come from the same population."
   ]
  },
  {
   "cell_type": "markdown",
   "metadata": {},
   "source": [
    "For example,\n",
    "<br>You might want to know whether two samples of water are likely from the same lake based on the counts of fish, algae, bacteria found in them.\n",
    "\n",
    "The calculation is the same as test of independence."
   ]
  },
  {
   "cell_type": "code",
   "execution_count": null,
   "metadata": {},
   "outputs": [],
   "source": []
  },
  {
   "cell_type": "code",
   "execution_count": null,
   "metadata": {},
   "outputs": [],
   "source": []
  },
  {
   "cell_type": "code",
   "execution_count": null,
   "metadata": {},
   "outputs": [],
   "source": []
  },
  {
   "cell_type": "code",
   "execution_count": null,
   "metadata": {},
   "outputs": [],
   "source": []
  },
  {
   "cell_type": "code",
   "execution_count": null,
   "metadata": {},
   "outputs": [],
   "source": []
  },
  {
   "cell_type": "code",
   "execution_count": null,
   "metadata": {},
   "outputs": [],
   "source": []
  },
  {
   "cell_type": "markdown",
   "metadata": {},
   "source": [
    "*References*\n",
    "\n",
    "https://www.youtube.com/watch?v=7_cs1YlZoug&pbjreload=10\n",
    "<br>https://machinelearningmastery.com/chi-squared-test-for-machine-learning/<br>\n",
    "https://statisticsbyjim.com/hypothesis-testing/chi-square-test-independence-example/"
   ]
  },
  {
   "cell_type": "code",
   "execution_count": null,
   "metadata": {},
   "outputs": [],
   "source": []
  },
  {
   "cell_type": "code",
   "execution_count": null,
   "metadata": {},
   "outputs": [],
   "source": []
  },
  {
   "cell_type": "code",
   "execution_count": null,
   "metadata": {},
   "outputs": [],
   "source": []
  },
  {
   "cell_type": "code",
   "execution_count": null,
   "metadata": {},
   "outputs": [],
   "source": []
  },
  {
   "cell_type": "code",
   "execution_count": null,
   "metadata": {},
   "outputs": [],
   "source": []
  },
  {
   "cell_type": "code",
   "execution_count": null,
   "metadata": {},
   "outputs": [],
   "source": []
  },
  {
   "cell_type": "code",
   "execution_count": null,
   "metadata": {},
   "outputs": [],
   "source": []
  }
 ],
 "metadata": {
  "kernelspec": {
   "display_name": "Python 3",
   "language": "python",
   "name": "python3"
  },
  "language_info": {
   "codemirror_mode": {
    "name": "ipython",
    "version": 3
   },
   "file_extension": ".py",
   "mimetype": "text/x-python",
   "name": "python",
   "nbconvert_exporter": "python",
   "pygments_lexer": "ipython3",
   "version": "3.7.2"
  }
 },
 "nbformat": 4,
 "nbformat_minor": 2
}
