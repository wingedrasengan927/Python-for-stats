{
 "cells": [
  {
   "cell_type": "markdown",
   "metadata": {},
   "source": [
    "# Hypothesis Testing"
   ]
  },
  {
   "cell_type": "markdown",
   "metadata": {},
   "source": [
    "Hypothesis testing is a vital process in inferential statistics where the goal is to use sample data to draw conclusions about an entire population."
   ]
  },
  {
   "cell_type": "markdown",
   "metadata": {},
   "source": [
    "Let's demonstrate using an example\n",
    "\n",
    "**Example *(one sample t test)***<br>\n",
    "The One Sample t Test determines whether the sample mean is statistically different from a known or hypothesised population mean. \n",
    "<br>The term “t-test” refers to the fact that these hypothesis tests use t-values to evaluate your sample data.\n",
    "\n",
    "A researcher is studying fuel expenditures for families and wants to determine if the monthly cost has changed since last year when the average was $260 per month. The researcher draws a random sample of 25 families and enters their monthly costs for this year.\n",
    "\n",
    "The dependent variable should be approximately normally distributed in a one sample t test."
   ]
  },
  {
   "cell_type": "code",
   "execution_count": 62,
   "metadata": {},
   "outputs": [],
   "source": [
    "import numpy as np\n",
    "import pandas as pd\n",
    "import seaborn as sns"
   ]
  },
  {
   "cell_type": "code",
   "execution_count": 63,
   "metadata": {},
   "outputs": [
    {
     "data": {
      "text/html": [
       "<div>\n",
       "<style scoped>\n",
       "    .dataframe tbody tr th:only-of-type {\n",
       "        vertical-align: middle;\n",
       "    }\n",
       "\n",
       "    .dataframe tbody tr th {\n",
       "        vertical-align: top;\n",
       "    }\n",
       "\n",
       "    .dataframe thead th {\n",
       "        text-align: right;\n",
       "    }\n",
       "</style>\n",
       "<table border=\"1\" class=\"dataframe\">\n",
       "  <thead>\n",
       "    <tr style=\"text-align: right;\">\n",
       "      <th></th>\n",
       "      <th>Family ID</th>\n",
       "      <th>Fuel Cost</th>\n",
       "    </tr>\n",
       "  </thead>\n",
       "  <tbody>\n",
       "    <tr>\n",
       "      <th>0</th>\n",
       "      <td>1</td>\n",
       "      <td>211</td>\n",
       "    </tr>\n",
       "    <tr>\n",
       "      <th>1</th>\n",
       "      <td>2</td>\n",
       "      <td>572</td>\n",
       "    </tr>\n",
       "    <tr>\n",
       "      <th>2</th>\n",
       "      <td>3</td>\n",
       "      <td>558</td>\n",
       "    </tr>\n",
       "    <tr>\n",
       "      <th>3</th>\n",
       "      <td>4</td>\n",
       "      <td>250</td>\n",
       "    </tr>\n",
       "    <tr>\n",
       "      <th>4</th>\n",
       "      <td>5</td>\n",
       "      <td>478</td>\n",
       "    </tr>\n",
       "  </tbody>\n",
       "</table>\n",
       "</div>"
      ],
      "text/plain": [
       "   Family ID  Fuel Cost\n",
       "0          1        211\n",
       "1          2        572\n",
       "2          3        558\n",
       "3          4        250\n",
       "4          5        478"
      ]
     },
     "execution_count": 63,
     "metadata": {},
     "output_type": "execute_result"
    }
   ],
   "source": [
    "# the sample data collected and entered by the researcher\n",
    "fuelcosts = pd.read_csv(\"FuelsCosts.csv\")\n",
    "fuelcosts.head()"
   ]
  },
  {
   "cell_type": "code",
   "execution_count": 64,
   "metadata": {},
   "outputs": [
    {
     "data": {
      "text/plain": [
       "<matplotlib.axes._subplots.AxesSubplot at 0x1d8e930e5c0>"
      ]
     },
     "execution_count": 64,
     "metadata": {},
     "output_type": "execute_result"
    },
    {
     "data": {
      "image/png": "[encoded data removed]",
      "text/plain": [
       "<Figure size 432x288 with 1 Axes>"
      ]
     },
     "metadata": {
      "needs_background": "light"
     },
     "output_type": "display_data"
    }
   ],
   "source": [
    "# let's see if the data is normally distributed\n",
    "sns.distplot(fuelcosts[\"Fuel Cost\"])"
   ]
  },
  {
   "cell_type": "code",
   "execution_count": 65,
   "metadata": {},
   "outputs": [
    {
     "data": {
      "text/plain": [
       "count     25.000000\n",
       "mean     330.560000\n",
       "std      154.177679\n",
       "min       77.000000\n",
       "25%      205.000000\n",
       "50%      320.000000\n",
       "75%      435.000000\n",
       "max      676.000000\n",
       "Name: Fuel Cost, dtype: float64"
      ]
     },
     "execution_count": 65,
     "metadata": {},
     "output_type": "execute_result"
    }
   ],
   "source": [
    "# descriptive statistics of the sample\n",
    "fuelcosts[\"Fuel Cost\"].describe()"
   ]
  },
  {
   "cell_type": "markdown",
   "metadata": {},
   "source": [
    "We obtained a sample mean of 330.6. However, it’s conceivable that, due to sampling error(The sampling error is the gap between the sample statistic and the population parameter.), the mean of the population might be only 260.  It’s impossible to assess this possibility by looking at only the sample mean."
   ]
  },
  {
   "cell_type": "markdown",
   "metadata": {},
   "source": [
    "Hypothesis testing is a form of inferential statistics that allows us to draw conclusions about an entire population based on a representative sample. "
   ]
  },
  {
   "cell_type": "markdown",
   "metadata": {},
   "source": [
    "*Let's formualte the null and alternate hypothesis*\n",
    "\n",
    "**Null Hypothesis:** The population mean is equal to 260\n",
    "<br>**Alternate Hypothesis:** The population mean is not equal to 260"
   ]
  },
  {
   "cell_type": "markdown",
   "metadata": {},
   "source": [
    "**The t Distribution**"
   ]
  },
  {
   "cell_type": "markdown",
   "metadata": {},
   "source": [
    "T-values are a type of test statistic.\n",
    "<br>Hypothesis tests use the test statistic that is calculated from your sample to compare your sample to the null hypothesis. If the test statistic is extreme enough, this indicates that your data are so incompatible with the null hypothesis that you can reject the null.<br>\n",
    "For example,\n",
    "<br>If the sample data equals the null hypothesis precisely, the t-test produces a t-value of 0.\n",
    "<br>As the sample data become progressively dissimilar from the null hypothesis, the absolute value of the t-value increases.\n"
   ]
  },
  {
   "cell_type": "markdown",
   "metadata": {},
   "source": [
    "the t-value is given by the formula:\n",
    "![ttest](ttest.png)"
   ]
  },
  {
   "cell_type": "markdown",
   "metadata": {},
   "source": [
    "A single t-test (a single sample) produces a single t-value. Now, imagine the following process. First, let’s assume that the null hypothesis is true for the population. Now, suppose we repeat our study many times by drawing many random samples of the same size from this population. Next, we perform t-tests on all of the samples and plot the distribution of the t-values. This distribution is known as a sampling distribution, which is a type of probability distribution.\n",
    "\n",
    "If we follow this procedure, we produce a graph that displays the distribution of t-values that we obtain from a population where the null hypothesis is true. We use sampling distributions to calculate probabilities for how unusual our sample statistic is if the null hypothesis is true.\n",
    "\n",
    "Luckily, we don’t need to go to the trouble of collecting numerous random samples to create this graph! Statisticians understand the properties of t-distributions so we can estimate the sampling distribution using the t-distribution and our sample size.\n",
    "<br>The degrees of freedom (DF) for the statistical design define the t-distribution for a particular study. The DF are closely related to the sample size. "
   ]
  },
  {
   "cell_type": "markdown",
   "metadata": {},
   "source": [
    "This is the equation of the curve of t distribution. All you need to know is the shape of the t distribution depends only on the degrees of freedom v.\n",
    "![tdistribution](tdd.png)"
   ]
  },
  {
   "cell_type": "code",
   "execution_count": 66,
   "metadata": {},
   "outputs": [
    {
     "data": {
      "text/plain": [
       "Text(0.5, 0, 't value')"
      ]
     },
     "execution_count": 66,
     "metadata": {},
     "output_type": "execute_result"
    },
    {
     "data": {
      "image/png": "[encoded data removed]",
      "text/plain": [
       "<Figure size 432x288 with 1 Axes>"
      ]
     },
     "metadata": {
      "needs_background": "light"
     },
     "output_type": "display_data"
    }
   ],
   "source": [
    "# let's plot t distribution in python\n",
    "\n",
    "import matplotlib.pyplot as plt\n",
    "from scipy import stats\n",
    "\n",
    "dof = 24        # Degrees of freedom\n",
    "x = np.linspace(-4, 4, 1000) # the range should be -4 to 4\n",
    "y = stats.t.pdf(x, dof)\n",
    "plt.plot(x, y)\n",
    "plt.title(\"T distribution for dof=24\")\n",
    "plt.xlabel(\"t value\")"
   ]
  },
  {
   "cell_type": "markdown",
   "metadata": {},
   "source": [
    "T-distributions assume that the null hypothesis is correct for the population from which you draw your random samples. To evaluate how compatible your sample data are with the null hypothesis, place your study’s t-value in the t-distribution and determine how unusual it is.\n",
    "\n",
    "the t-distribution centers on zero because it assumes that the null hypothesis is true. When the null is true, your study is most likely to obtain a t-value near zero and less liable to produce t-values further from zero in either direction.\n",
    "\n",
    "The sample size for a t-test determines the degrees of freedom (DF) for that test, which specifies the t-distribution. The overall effect is that as the sample size decreases, the tails of the t-distribution become thicker. Thicker tails indicate that t-values are more likely to be far from zero even when the null hypothesis is correct. The changing shapes are how t-distributions factor in the greater uncertainty that is present when you have a smaller sample.\n",
    "\n",
    "Sample means from smaller samples tend to be less precise. In other words, with a smaller sample, it’s less surprising to have an extreme t-value, which affects the probabilities and p-values"
   ]
  },
  {
   "cell_type": "code",
   "execution_count": 67,
   "metadata": {},
   "outputs": [
    {
     "data": {
      "text/plain": [
       "<matplotlib.legend.Legend at 0x1d8e99af668>"
      ]
     },
     "execution_count": 67,
     "metadata": {},
     "output_type": "execute_result"
    },
    {
     "data": {
      "image/png": "[encoded data removed]",
      "text/plain": [
       "<Figure size 720x288 with 1 Axes>"
      ]
     },
     "metadata": {
      "needs_background": "light"
     },
     "output_type": "display_data"
    }
   ],
   "source": [
    "# Now let's get back to our problem\n",
    "\n",
    "## Setup      \n",
    "\n",
    "# For a 1-sample t-test, the degrees of freedom equals the sample size minus 1. \n",
    "# So, that’s 24 degrees of freedom for our sample of 25.\n",
    "dof = 24        # Degrees of freedom\n",
    "alpha = 0.05    # Significence level\n",
    "ntails = 2      # Number of tails \n",
    "\n",
    "## Calculate critical t-score\n",
    "tcrit = abs(stats.t.ppf(alpha/ntails, dof)) # obtain the t score for a p value of 0.025\n",
    "# +=2.068\n",
    "\n",
    "plt.figure(figsize=(10, 4))\n",
    "xs = np.linspace(-5, 5, 1000)\n",
    "plt.xticks(list(range(-4, 5)), xvalues)\n",
    "fill_right = np.linspace(tcrit, 5, 100)\n",
    "plt.fill_between(fill_right, stats.t.pdf(fill_right,dof), label='critical region right')\n",
    "fill_left = np.linspace(-tcrit, -5, 100)\n",
    "plt.fill_between(fill_left, stats.t.pdf(fill_right,dof), label='critical region left')\n",
    "plt.plot(xs, stats.t.pdf(xs,dof), 'k', label=\"T-Distribution PDF\")\n",
    "\n",
    "## Plot some vertical lines representing critical t-score cutoff\n",
    "plt.vlines([-tcrit, tcrit], 0.0, stats.t.pdf(tcrit, dof), colors='r', label=\"critical cutoff line\")\n",
    "\n",
    "# plotting a vertical line through our sample mean\n",
    "# first let's calculate the t statistic\n",
    "tstatistic = abs(np.mean(fuelcosts[\"Fuel Cost\"])-260)*np.sqrt(24)/np.std(fuelcosts[\"Fuel Cost\"])\n",
    "plt.vlines(tstatistic, 0.0, 0.30, 'g', '--', label=\"sample mean=330.56\")\n",
    "\n",
    "plt.legend()"
   ]
  },
  {
   "cell_type": "markdown",
   "metadata": {},
   "source": [
    "**NOTE:** the t distribution is centered around 0 and ranges from -4 to 4 in this example, but for demonstration purposes, we've translated the t values into X values. This can be done by rearranging the formula shown as below.\n",
    "\n",
    "X = $\\mu$+tvalue*S/$\\sqrt{N}$\n",
    "\n",
    "where $\\mu$ is the null hypothesis mean, S is the standard deviation of the sample, N is degree of freedom"
   ]
  },
  {
   "cell_type": "code",
   "execution_count": 68,
   "metadata": {},
   "outputs": [],
   "source": [
    "# let's get the X values corresponding to the t values\n",
    "xvalues = [260+x*np.std(fuelcosts[\"Fuel Cost\"])/np.sqrt(len(fuelcosts[\"Fuel Cost\"]))\n",
    "          for x in range(-4, 4, 1)] "
   ]
  },
  {
   "cell_type": "code",
   "execution_count": 69,
   "metadata": {},
   "outputs": [
    {
     "data": {
      "text/plain": [
       "[139, 169, 199, 229, 260, 290, 320, 350]"
      ]
     },
     "execution_count": 69,
     "metadata": {},
     "output_type": "execute_result"
    }
   ],
   "source": [
    "xvalues = list(map(lambda x: int(x), xvalues))\n",
    "xvalues"
   ]
  },
  {
   "cell_type": "markdown",
   "metadata": {},
   "source": [
    "Hypothesis tests work by taking the observed test statistic from a sample and using the sampling distribution to calculate the probability of obtaining that test statistic if the null hypothesis is correct. If a t-value is sufficiently improbable when the null hypothesis is true, you can reject the null hypothesis."
   ]
  },
  {
   "cell_type": "markdown",
   "metadata": {},
   "source": [
    "**Interpretation from the graph**"
   ]
  },
  {
   "cell_type": "markdown",
   "metadata": {},
   "source": [
    "![hypothesistesting](hp.png)"
   ]
  },
  {
   "cell_type": "markdown",
   "metadata": {},
   "source": [
    "The graph shows which sample means are more likely and less likely if the population mean is 260 i.e assuming the null hypothesis is true. We can place our sample mean in this distribution. This larger context helps us see how unlikely our sample mean is if the null hypothesis is true (μ = 260).\n",
    "\n",
    "The most likely values are near 260 because the plot assumes that this is the true population mean.\n",
    "<br>The sampling distribution shows us that we are relatively unlikely to obtain a sample of 330.6 if the population mean is 260.\n",
    "\n",
    "Is our sample mean so unlikely that we can reject the notion that the population mean is 260?\n",
    "\n",
    "In statistics, we call this rejecting the null hypothesis. If we reject the null hypothesis for our example, the difference between the sample mean (330.6) and 260 is statistically significant. In other words, there is a low probability that the difference has occured merely by random chance"
   ]
  },
  {
   "cell_type": "markdown",
   "metadata": {},
   "source": [
    "**Significance level**\n",
    "\n",
    "A significance level, also known as alpha or α, is an evidentiary standard that a researcher sets before the study. It defines how strongly the sample evidence must contradict the null hypothesis before you can reject the null hypothesis for the entire population. The strength of the evidence is defined by the probability of rejecting a null hypothesis that is true. In other words, it is the probability that you say there is an effect when there is no effect.  (in this case, the effect is change in monthly cost)\n",
    "\n",
    "For instance, a significance level of 0.05 signifies a 5% risk of deciding that an effect exists when it does not exist.\n",
    "\n",
    "Lower significance levels require stronger sample evidence to be able to reject the null hypothesis. For example, to be statistically significant at the 0.01 significance level requires more substantial evidence than the 0.05 significance level. However, there is a tradeoff in hypothesis tests. Lower significance levels also reduce the power of a hypothesis test to detect a difference that does exist."
   ]
  },
  {
   "cell_type": "markdown",
   "metadata": {},
   "source": [
    "**Graphing the significance level**\n",
    "\n",
    "On the probability distribution plot, the significance level defines how far the sample value must be from the null value so we can reject the null hypothesis. \n",
    "<br>The percentage of the area under the curve that is shaded equals the probability that the sample value will fall in those regions if the null hypothesis is correct.\n",
    "\n",
    "The two shaded regions in the graph are equidistant from the central value of the null hypothesis (since it's a two tailed test). Each region has a probability of 0.025, which sums to our desired total of 0.05. These shaded areas are called the critical region for a two-tailed hypothesis test\n",
    "\n",
    "If the null hypothesis is correct and the population mean is 260, random samples (n=25) from this population have means that fall in the critical region 5% of the time.\n",
    "\n",
    "You must set the significance level before conducting a study. You don’t want the temptation of choosing a level after the study that yields significant results."
   ]
  },
  {
   "cell_type": "markdown",
   "metadata": {},
   "source": [
    "**P Value**\n",
    "\n",
    "The graphical version of the one-sample t-test we created allows us to determine statistical significance without assessing the P value. Typically, you need to compare the P value to the significance level to make this determination.\n",
    "\n",
    "P values are the probability that a sample will have an effect at least as extreme as the effect observed in your sample if the null hypothesis is correct.\n",
    "\n",
    "First, we need to calculate the effect that is present in our sample. The effect is the distance between the sample value and null value: 330.6 – 260 = 70.6. Next, we'll shade the regions on both sides of the distribution that are at least as far away as 70.6 from the null (260 +/- 70.6). This process graphs the probability of observing a sample mean at least as extreme as our sample mean.\n",
    "\n",
    "If your P value is less than or equal to your alpha level, reject the null hypothesis."
   ]
  },
  {
   "cell_type": "code",
   "execution_count": 70,
   "metadata": {},
   "outputs": [
    {
     "data": {
      "text/plain": [
       "0.03122655947427309"
      ]
     },
     "execution_count": 70,
     "metadata": {},
     "output_type": "execute_result"
    }
   ],
   "source": [
    "# calculating the p value for a given t statistic\n",
    "stats.t.sf(tstatistic, 24)*2"
   ]
  },
  {
   "cell_type": "code",
   "execution_count": 71,
   "metadata": {},
   "outputs": [
    {
     "data": {
      "text/plain": [
       "<matplotlib.legend.Legend at 0x1d8e933cf98>"
      ]
     },
     "execution_count": 71,
     "metadata": {},
     "output_type": "execute_result"
    },
    {
     "data": {
      "image/png": "[encoded data removed]",
      "text/plain": [
       "<Figure size 720x288 with 1 Axes>"
      ]
     },
     "metadata": {
      "needs_background": "light"
     },
     "output_type": "display_data"
    }
   ],
   "source": [
    "# Let's plot a graph showing the p values\n",
    "\n",
    "plt.figure(figsize=(10, 4))\n",
    "xs = np.linspace(-5, 5, 1000)\n",
    "plt.xticks(list(range(-4, 5)), xvalues)\n",
    "\n",
    "fill_right = np.linspace(tstatistic, 5, 100)\n",
    "plt.fill_between(fill_right, stats.t.pdf(fill_right,dof))\n",
    "fill_left = np.linspace(-tstatistic, -5, 100)\n",
    "plt.fill_between(fill_left, stats.t.pdf(fill_right,dof))\n",
    "plt.plot(xs, stats.t.pdf(xs,dof), 'k', label=\"T-Distribution PDF\")\n",
    "\n",
    "# plotting a vertical line through our sample mean\n",
    "# first let's calculate the t statistic\n",
    "tstatistic = abs(np.mean(fuelcosts[\"Fuel Cost\"])-260)*np.sqrt(24)/np.std(fuelcosts[\"Fuel Cost\"])\n",
    "plt.vlines(tstatistic, 0.0, 0.30, 'g', '--', label=\"sample mean=330.56\")\n",
    "\n",
    "plt.legend()"
   ]
  },
  {
   "cell_type": "markdown",
   "metadata": {},
   "source": [
    "\n",
    "The total probability of the two shaded regions is 0.03122. If the null hypothesis value (260) is true and you drew many random samples, you’d expect sample means to fall in the shaded regions about 3.1% of the time. In other words, you will observe sample effects at least as large as 70.6 about 3.1% of the time if the null is true. That’s the P value!"
   ]
  },
  {
   "cell_type": "markdown",
   "metadata": {},
   "source": [
    "Using the significance level of 0.05, the sample effect is statistically significant. Our data support the alternative hypothesis, which states that the population mean doesn’t equal 260. We can conclude that mean fuel expenditures have increased since last year."
   ]
  },
  {
   "cell_type": "markdown",
   "metadata": {},
   "source": [
    "The significance level is the rate at which you incorrectly reject null hypotheses that are actually true (type I error). For example, for all studies that use a significance level of 0.05 and the null hypothesis is correct, you can expect 5% of them to have sample statistics that fall in the critical region. When this error occurs, you aren’t aware that the null hypothesis is correct, but you’ll reject it because the p-value is less than 0.05.\n",
    "\n",
    "This error does not indicate that the researcher made a mistake. As the graphs show, you can observe extreme sample statistics due to sample error alone. It’s the luck of the draw!"
   ]
  },
  {
   "cell_type": "code",
   "execution_count": 72,
   "metadata": {},
   "outputs": [],
   "source": [
    "# we have built in methods in python to perform the hyothesis tests\n",
    "# we can get the t value and p value from the data\n",
    "# the method takes in the sample data and null hypothesis mean as an argument\n",
    "tstat, pvalue = stats.ttest_1samp(fuelcosts[\"Fuel Cost\"], 260)"
   ]
  },
  {
   "cell_type": "code",
   "execution_count": 73,
   "metadata": {},
   "outputs": [
    {
     "data": {
      "text/plain": [
       "2.288268979979398"
      ]
     },
     "execution_count": 73,
     "metadata": {},
     "output_type": "execute_result"
    }
   ],
   "source": [
    "tstat"
   ]
  },
  {
   "cell_type": "code",
   "execution_count": 74,
   "metadata": {},
   "outputs": [
    {
     "data": {
      "text/plain": [
       "0.03122655947427306"
      ]
     },
     "execution_count": 74,
     "metadata": {},
     "output_type": "execute_result"
    }
   ],
   "source": [
    "pvalue"
   ]
  },
  {
   "cell_type": "code",
   "execution_count": 75,
   "metadata": {},
   "outputs": [
    {
     "data": {
      "text/plain": [
       "2.2882689799793976"
      ]
     },
     "execution_count": 75,
     "metadata": {},
     "output_type": "execute_result"
    }
   ],
   "source": [
    "tstatistic"
   ]
  },
  {
   "cell_type": "markdown",
   "metadata": {},
   "source": [
    "References:\n",
    "<br>https://statisticsbyjim.com/hypothesis-testing/t-tests-t-values-t-distributions-probabilities/\n",
    "<br>https://www.cse.iitk.ac.in/users/nsrivast/HCC/lec07-09.pdf\n",
    "<br>https://statisticsbyjim.com/hypothesis-testing/hypothesis-tests-significance-levels-alpha-p-values/"
   ]
  },
  {
   "cell_type": "code",
   "execution_count": null,
   "metadata": {},
   "outputs": [],
   "source": []
  },
  {
   "cell_type": "code",
   "execution_count": null,
   "metadata": {},
   "outputs": [],
   "source": []
  },
  {
   "cell_type": "code",
   "execution_count": null,
   "metadata": {},
   "outputs": [],
   "source": []
  },
  {
   "cell_type": "code",
   "execution_count": null,
   "metadata": {},
   "outputs": [],
   "source": []
  },
  {
   "cell_type": "code",
   "execution_count": null,
   "metadata": {},
   "outputs": [],
   "source": []
  }
 ],
 "metadata": {
  "kernelspec": {
   "display_name": "Python 3",
   "language": "python",
   "name": "python3"
  },
  "language_info": {
   "codemirror_mode": {
    "name": "ipython",
    "version": 3
   },
   "file_extension": ".py",
   "mimetype": "text/x-python",
   "name": "python",
   "nbconvert_exporter": "python",
   "pygments_lexer": "ipython3",
   "version": "3.7.2"
  }
 },
 "nbformat": 4,
 "nbformat_minor": 2
}
