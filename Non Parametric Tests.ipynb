{
 "cells": [
  {
   "cell_type": "markdown",
   "metadata": {},
   "source": [
    "# Non Parametric Tests"
   ]
  },
  {
   "cell_type": "markdown",
   "metadata": {},
   "source": [
    "Many statistical tests require that your data follow a normal distribution. Sometimes this is not the case. In some instances it is possible to transform the data to make them follow a normal distribution; in others this is not possible or the sample size might be so small that it is difficult to ascertain whether or not the data a normally distributed. In such cases it is necessary to use a statistical test that does not require the data to follow a particular distribution. Such a test is called a non-parametric or distribution free test. \n",
    "<br>Non-Parametric Methods allow statistical Inference without making the assumption that a sample has taken from a particular distribution (i.e. Normal)"
   ]
  },
  {
   "cell_type": "markdown",
   "metadata": {},
   "source": [
    "Image Source: zstatistics\n",
    "![Non Parametric Tests](nptests.png)"
   ]
  },
  {
   "cell_type": "markdown",
   "metadata": {},
   "source": [
    "# Sign Test"
   ]
  },
  {
   "cell_type": "markdown",
   "metadata": {},
   "source": [
    "The sign test is used to test the null hypothesis that the median of a distribution is equal to some value (In case of a uniform distribution, the mean can also be used since mean = median). The sign test is an alternative to a one sample t test or a paired t test. It can also be used for ordered (ranked) categorical data. \n",
    "<br>The Sign test is a non–parametric (distribution free) test, so we do not assume that the data is normally distributed.\n",
    "\n",
    "In any distribution, the value can be either greater than the median or less than median and there is an equal probability of 50% in either case.\n",
    "<br>Let's call the values less than the median as \"negatives\" and values greater than the median as \"positives\"\n",
    "<br>Hence the positives or negatives follows a binomial distribution with p =0.5\n",
    "\n",
    "**Procedure:** The observations in a sample of size n are x1,x2,...,xn (these observations could be the paired differences); the null hypothesis is that the population median is equal to somevalue M. Suppose that r+ of the observations are greater than M and r− are smaller than M (in the case where the sign test is being used in place of a paired t-test, M would be zero). Values of x which are exactly equal to M are ignored; the sum r+ + r− may therefore be less than n. we will denote it by n′.\n",
    "\n",
    "Under the null hypothesis we would expect half the x’s to be above the median and half below. Therefore, under the null hypothesis both r+ and r− follow a binomial distribution with p=1/2 and n=n′.\n",
    "\n",
    "Next, we calculate the p-value for r = max(r+, r-) (for a two sided test)"
   ]
  },
  {
   "cell_type": "markdown",
   "metadata": {},
   "source": [
    "**Example**\n",
    "\n",
    "Haempglobin levels (in g/dL) were sampled from ten female vegetarians, to assess the prevalence of anemia"
   ]
  },
  {
   "cell_type": "code",
   "execution_count": 73,
   "metadata": {},
   "outputs": [],
   "source": [
    "# the data\n",
    "\n",
    "import numpy as np\n",
    "import pandas as pd\n",
    "import matplotlib.pyplot as plt\n",
    "import seaborn as sns\n",
    "\n",
    "sample1 = np.array([12.3, 13.1, 11.3, 10.1, 14.0, 13.3, 10.5, 12.3, 10.9, 11.9])"
   ]
  },
  {
   "cell_type": "markdown",
   "metadata": {},
   "source": [
    "Assess whether the median haemoglobin level for female vegetarians is less than 13.0g/dL"
   ]
  },
  {
   "cell_type": "markdown",
   "metadata": {},
   "source": [
    "Now, median is a non parametric measure of the central location of the population."
   ]
  },
  {
   "cell_type": "markdown",
   "metadata": {},
   "source": [
    "*Null and Alternate Hypothesis*\n",
    "<br>**Null Hypothesis:** Median is equal to 13g/dL\n",
    "<br> $H_{0}:$$\\eta = 13$\n",
    "<br>**Alternate Hypothesis:** Median is less than 13g/dL\n",
    "<br> $H_{a}:$$\\eta < 13$"
   ]
  },
  {
   "cell_type": "code",
   "execution_count": 74,
   "metadata": {},
   "outputs": [
    {
     "name": "stdout",
     "output_type": "stream",
     "text": [
      "7\n",
      "3\n",
      "10\n"
     ]
    }
   ],
   "source": [
    "# let's calculate the number of positives and negatives\n",
    "\n",
    "# samples below the median value\n",
    "print(sample1[sample1<13].size) # negatives\n",
    "\n",
    "# samples above the median value\n",
    "print(sample1[sample1>13].size) # number of positives\n",
    "\n",
    "# n'\n",
    "print(sample1[sample1>13].size + sample1[sample1<13].size)"
   ]
  },
  {
   "cell_type": "markdown",
   "metadata": {},
   "source": [
    "Is that the fact that we have 7 observations out of 10 whose Haemoglobin level is below 13 enough to reject the null hypothesis?\n",
    "<br>Let's calculate the p value"
   ]
  },
  {
   "cell_type": "code",
   "execution_count": 75,
   "metadata": {},
   "outputs": [
    {
     "data": {
      "text/plain": [
       "Text(0, 0.5, 'Probability')"
      ]
     },
     "execution_count": 75,
     "metadata": {},
     "output_type": "execute_result"
    },
    {
     "data": {
      "image/png": "[encoded data removed]",
      "text/plain": [
       "<Figure size 432x288 with 1 Axes>"
      ]
     },
     "metadata": {
      "needs_background": "light"
     },
     "output_type": "display_data"
    }
   ],
   "source": [
    "# Let's plot the distribution of \"negatives\" assuming the null hypothesis is true\n",
    "\n",
    "from scipy import stats\n",
    "\n",
    "n, p = 10, 0.5\n",
    "\n",
    "fig, ax = plt.subplots(1, 1)\n",
    "\n",
    "# let's calculate the x values\n",
    "x = np.arange(stats.binom.ppf(0.00001, n, p), stats.binom.ppf(1.000, n, p)+1)\n",
    "\n",
    "# let's plot it\n",
    "ax.plot(x, stats.binom.pmf(x, n, p), 'bo', ms=8, label='binom pmf')\n",
    "ax.vlines(x, 0, stats.binom.pmf(x, n, p), colors='b', lw=5, alpha=0.5)\n",
    "ax.set_title(\"Distributions of \\'negatives' under the null hypothesis\")\n",
    "ax.set_xlabel(\"Number of Negatives\")\n",
    "ax.set_ylabel(\"Probability\")"
   ]
  },
  {
   "cell_type": "code",
   "execution_count": 76,
   "metadata": {},
   "outputs": [
    {
     "data": {
      "text/plain": [
       "6.0"
      ]
     },
     "execution_count": 76,
     "metadata": {},
     "output_type": "execute_result"
    }
   ],
   "source": [
    "# this gives the x value for a given cummulative probability\n",
    "stats.binom.ppf(0.65, n, p)"
   ]
  },
  {
   "cell_type": "code",
   "execution_count": 77,
   "metadata": {},
   "outputs": [
    {
     "data": {
      "text/plain": [
       "0.24609375000000025"
      ]
     },
     "execution_count": 77,
     "metadata": {},
     "output_type": "execute_result"
    }
   ],
   "source": [
    "# This computes the probability value for a given x value\n",
    "# Note: It doesn't compute cummulative probability but only the probability associated with the given x\n",
    "# (This is in reference to the binomial distribution, for others it will be different)\n",
    "# Uses the required function to do so\n",
    "stats.binom.pmf(5, n, p)"
   ]
  },
  {
   "cell_type": "markdown",
   "metadata": {},
   "source": [
    "**Interpretation from the graph**\n",
    "\n",
    "From the graph, we can see that if the median was 13, then the probability of getting 5 'negatives' is 0.24.\n",
    "<br>Number of 'negatives' in our sample: 7\n",
    "<br>p-value associated with 7 (Probability of getting atleast 7 negatives) is: 0.172 [P(7) + P(8) + P(9) + P(10)]\n",
    "<br>In case of two tailed tests, multiply this value by 2"
   ]
  },
  {
   "cell_type": "code",
   "execution_count": 78,
   "metadata": {},
   "outputs": [
    {
     "data": {
      "text/plain": [
       "0.17187500000000014"
      ]
     },
     "execution_count": 78,
     "metadata": {},
     "output_type": "execute_result"
    }
   ],
   "source": [
    "# calculation of p-value\n",
    "count=0\n",
    "for i in range(7, 11):\n",
    "    count+=stats.binom.pmf(i, n, p)\n",
    "count"
   ]
  },
  {
   "cell_type": "markdown",
   "metadata": {},
   "source": [
    "since, p>alpha, we fail to reject the null hypothesis.\n",
    "<br>Therefore, there's not enough level of evidence (at 5% level of significance) to suggest the median level of Hg for vegetarian women is less than 13.0g/dL"
   ]
  },
  {
   "cell_type": "markdown",
   "metadata": {},
   "source": [
    "# Wilcoxon signed-rank test"
   ]
  },
  {
   "cell_type": "markdown",
   "metadata": {},
   "source": [
    "Notice that the only piece of information we were using for the sign test was whether each Observation was either \"positive\" or \"negative\" when compared to the median. In other words, whether it's on one side or the other side of the median value. It's the \"sign\" we were really interested in.\n",
    "\n",
    "We're about to incorporate an extra piece of Information in the Wilcoxon signed-rank test."
   ]
  },
  {
   "cell_type": "markdown",
   "metadata": {},
   "source": [
    "Let's ask the question in the above example.\n",
    "<br>*What if all the women above 13.0g/dL were only marginally above that level, whereas women below 13.0g/dL were significantly below*\n",
    "\n",
    "We find that, in our example, the observations below the median are significantly below and the observations above the median are only marginally above.\n",
    "\n",
    "So, is there a way to incorporate this \"distance\" from that median level in our test?\n",
    "<br>Yes there is."
   ]
  },
  {
   "cell_type": "markdown",
   "metadata": {},
   "source": [
    "In Wilcoxon signed-rank test, we rank each of these differences  that are created from each of these observations"
   ]
  },
  {
   "cell_type": "code",
   "execution_count": 79,
   "metadata": {},
   "outputs": [
    {
     "data": {
      "text/html": [
       "<div>\n",
       "<style scoped>\n",
       "    .dataframe tbody tr th:only-of-type {\n",
       "        vertical-align: middle;\n",
       "    }\n",
       "\n",
       "    .dataframe tbody tr th {\n",
       "        vertical-align: top;\n",
       "    }\n",
       "\n",
       "    .dataframe thead th {\n",
       "        text-align: right;\n",
       "    }\n",
       "</style>\n",
       "<table border=\"1\" class=\"dataframe\">\n",
       "  <thead>\n",
       "    <tr style=\"text-align: right;\">\n",
       "      <th></th>\n",
       "      <th>Hg Level</th>\n",
       "      <th>Difference from the median</th>\n",
       "      <th>Absolute Difference</th>\n",
       "      <th>Rank</th>\n",
       "      <th>Signed Rank</th>\n",
       "    </tr>\n",
       "  </thead>\n",
       "  <tbody>\n",
       "    <tr>\n",
       "      <th>0</th>\n",
       "      <td>12.3</td>\n",
       "      <td>-0.7</td>\n",
       "      <td>0.7</td>\n",
       "      <td>3.5</td>\n",
       "      <td>-3.5</td>\n",
       "    </tr>\n",
       "    <tr>\n",
       "      <th>1</th>\n",
       "      <td>13.1</td>\n",
       "      <td>0.1</td>\n",
       "      <td>0.1</td>\n",
       "      <td>1.0</td>\n",
       "      <td>1.0</td>\n",
       "    </tr>\n",
       "    <tr>\n",
       "      <th>2</th>\n",
       "      <td>11.3</td>\n",
       "      <td>-1.7</td>\n",
       "      <td>1.7</td>\n",
       "      <td>7.0</td>\n",
       "      <td>-7.0</td>\n",
       "    </tr>\n",
       "    <tr>\n",
       "      <th>3</th>\n",
       "      <td>10.1</td>\n",
       "      <td>-2.9</td>\n",
       "      <td>2.9</td>\n",
       "      <td>10.0</td>\n",
       "      <td>-10.0</td>\n",
       "    </tr>\n",
       "    <tr>\n",
       "      <th>4</th>\n",
       "      <td>14.0</td>\n",
       "      <td>1.0</td>\n",
       "      <td>1.0</td>\n",
       "      <td>5.0</td>\n",
       "      <td>5.0</td>\n",
       "    </tr>\n",
       "    <tr>\n",
       "      <th>5</th>\n",
       "      <td>13.3</td>\n",
       "      <td>0.3</td>\n",
       "      <td>0.3</td>\n",
       "      <td>2.0</td>\n",
       "      <td>2.0</td>\n",
       "    </tr>\n",
       "    <tr>\n",
       "      <th>6</th>\n",
       "      <td>10.5</td>\n",
       "      <td>-2.5</td>\n",
       "      <td>2.5</td>\n",
       "      <td>9.0</td>\n",
       "      <td>-9.0</td>\n",
       "    </tr>\n",
       "    <tr>\n",
       "      <th>7</th>\n",
       "      <td>12.3</td>\n",
       "      <td>-0.7</td>\n",
       "      <td>0.7</td>\n",
       "      <td>3.5</td>\n",
       "      <td>-3.5</td>\n",
       "    </tr>\n",
       "    <tr>\n",
       "      <th>8</th>\n",
       "      <td>10.9</td>\n",
       "      <td>-2.1</td>\n",
       "      <td>2.1</td>\n",
       "      <td>8.0</td>\n",
       "      <td>-8.0</td>\n",
       "    </tr>\n",
       "    <tr>\n",
       "      <th>9</th>\n",
       "      <td>11.9</td>\n",
       "      <td>-1.1</td>\n",
       "      <td>1.1</td>\n",
       "      <td>6.0</td>\n",
       "      <td>-6.0</td>\n",
       "    </tr>\n",
       "  </tbody>\n",
       "</table>\n",
       "</div>"
      ],
      "text/plain": [
       "   Hg Level  Difference from the median  Absolute Difference  Rank  \\\n",
       "0      12.3                        -0.7                  0.7   3.5   \n",
       "1      13.1                         0.1                  0.1   1.0   \n",
       "2      11.3                        -1.7                  1.7   7.0   \n",
       "3      10.1                        -2.9                  2.9  10.0   \n",
       "4      14.0                         1.0                  1.0   5.0   \n",
       "5      13.3                         0.3                  0.3   2.0   \n",
       "6      10.5                        -2.5                  2.5   9.0   \n",
       "7      12.3                        -0.7                  0.7   3.5   \n",
       "8      10.9                        -2.1                  2.1   8.0   \n",
       "9      11.9                        -1.1                  1.1   6.0   \n",
       "\n",
       "   Signed Rank  \n",
       "0         -3.5  \n",
       "1          1.0  \n",
       "2         -7.0  \n",
       "3        -10.0  \n",
       "4          5.0  \n",
       "5          2.0  \n",
       "6         -9.0  \n",
       "7         -3.5  \n",
       "8         -8.0  \n",
       "9         -6.0  "
      ]
     },
     "execution_count": 79,
     "metadata": {},
     "output_type": "execute_result"
    }
   ],
   "source": [
    "hg = pd.DataFrame(data=sample1, columns=[\"Hg Level\"])\n",
    "hg[\"Difference from the median\"] = hg - 13.0\n",
    "hg[\"Absolute Difference\"] = hg[\"Difference from the median\"].map(lambda x: abs(x))\n",
    "# there's a built in method to calculate ranks\n",
    "hg[\"Rank\"] = hg[\"Absolute Difference\"].rank()\n",
    "# let's assign the signed rank\n",
    "sr=[]\n",
    "for i, j in zip(hg[\"Difference from the median\"].map(lambda x: round(x, 2)), hg[\"Rank\"]):\n",
    "    if i>0:\n",
    "        sr.append(j)\n",
    "    else:\n",
    "        sr.append(-j)\n",
    "hg[\"Signed Rank\"] = sr\n",
    "hg"
   ]
  },
  {
   "cell_type": "markdown",
   "metadata": {},
   "source": [
    "The Wilcoxon signed rank test relies on the W-statistics. The W statistics is a non-parametric test, thus it does not need multivariate normality in the data.\n",
    "<br>The W-statistic is simply the positive or negative sum of the signed ranks. \n",
    "<br>Keep in mind we're always comparing the smaller of the two test statistics with the critical value"
   ]
  },
  {
   "cell_type": "code",
   "execution_count": 80,
   "metadata": {},
   "outputs": [
    {
     "name": "stdout",
     "output_type": "stream",
     "text": [
      "47.0\n"
     ]
    },
    {
     "data": {
      "text/plain": [
       "8.0"
      ]
     },
     "execution_count": 80,
     "metadata": {},
     "output_type": "execute_result"
    }
   ],
   "source": [
    "# Let's calculate the w-statistic\n",
    "w = hg[\"Signed Rank\"].map(lambda x: x if x>0 else 0).sum() # sum of positive signed ranks\n",
    "# sum of negative signed ranks (we take absolute value)\n",
    "print(abs(hg[\"Signed Rank\"].map(lambda x: x if x<0 else 0).sum())) \n",
    "w # w statistic is smaller of these two which is 8"
   ]
  },
  {
   "cell_type": "markdown",
   "metadata": {},
   "source": [
    "For small samples, W can be compared to a critical value from a reference table.\n",
    "<br>From the table, we get critical value as 10.\n",
    "<br>Hence, we can reject the null hypothesis as 8<10."
   ]
  },
  {
   "cell_type": "markdown",
   "metadata": {},
   "source": [
    "For large samples with n>10 observations the W-statistics approximates a Normal Distribution.\n",
    "<br>The z value is given by (Here T is W):\n",
    "<br>Technically, in this formula, the T value (W) can be either of the test statistics (8 or 39) .But let's use 8.\n",
    "![wstatistic](wstatistic.png)"
   ]
  },
  {
   "cell_type": "markdown",
   "metadata": {},
   "source": [
    "Calculating from the above formula, we get z = 0.99.\n",
    "<br>At 5% significance level, z critical = 1.645.\n",
    "<br> Since z>z critical, we reject the null hypothesis."
   ]
  },
  {
   "cell_type": "markdown",
   "metadata": {},
   "source": [
    "So either way, we reject the null hypothesis.\n",
    "<br>Means that the seven observations we had which were less than 13 had ranks that were quite a deal higher than the three observations that were greater than 13."
   ]
  },
  {
   "cell_type": "markdown",
   "metadata": {},
   "source": [
    "You'll notice that in our sign test, we couldn't reject the null hypothesis.\n",
    "<br>So why contradicting test results for the same data set?\n",
    "<br>Well, it all comes down to what kind of information we are feeding into it.\n",
    "<br>For the sign test, we were only interested if the observations were less than 13 or greater than 13.\n",
    "<br>But we also incorporated the ranks, not just signs in the wilcoxon test. And that was critical."
   ]
  },
  {
   "cell_type": "markdown",
   "metadata": {},
   "source": [
    "# Mann-Whitney U test"
   ]
  },
  {
   "cell_type": "markdown",
   "metadata": {},
   "source": [
    "This test can be used to determine whether two independent samples were selected from populations having the same distribution.\n",
    "\n",
    "Unlike the t-test it does not require the assumption of normal distributions.\n",
    "\n",
    "*Assumptions*\n",
    "<br>All the observations from both groups are independent of each other.\n",
    "<br>Under the null hypothesis H0, the distributions of both populations are equal.\n",
    "<br>The alternative hypothesis H1 is that the distributions are not equal."
   ]
  },
  {
   "cell_type": "markdown",
   "metadata": {},
   "source": [
    "**Example**\n",
    "\n",
    "Haemoglobin levels (in g/dL) were sampled from ten female vegetarians and eight male vegetarians. Is there an evidence of a difference in the median haemoglobin levels.\n",
    "\n",
    "**Null Hypothesis:** $\\eta_{F}$ = $\\eta_{F}$\n",
    "<br>**Alternate Hypothesis:** $\\eta_{F}$ $\\neq$ $\\eta_{F}$\n",
    "<br>It's a two tailed test."
   ]
  },
  {
   "cell_type": "code",
   "execution_count": 81,
   "metadata": {},
   "outputs": [],
   "source": [
    "# data collected from male vegetarians\n",
    "sample2= [10.8, 11.5, 11.8, 12.1, 12.8, 13.2, 13.5, 14.1]"
   ]
  },
  {
   "cell_type": "code",
   "execution_count": 82,
   "metadata": {},
   "outputs": [],
   "source": [
    "# Let's create a dataframe\n",
    "\n",
    "# female dataframe\n",
    "female = pd.DataFrame(sample1, index=[\"female\"]*len(sample1), columns=[\"Hg Levels\"])\n",
    "male = pd.DataFrame(sample2, index=[\"male\"]*len(sample2), columns=[\"Hg Levels\"])"
   ]
  },
  {
   "cell_type": "code",
   "execution_count": 91,
   "metadata": {},
   "outputs": [
    {
     "data": {
      "text/html": [
       "<div>\n",
       "<style scoped>\n",
       "    .dataframe tbody tr th:only-of-type {\n",
       "        vertical-align: middle;\n",
       "    }\n",
       "\n",
       "    .dataframe tbody tr th {\n",
       "        vertical-align: top;\n",
       "    }\n",
       "\n",
       "    .dataframe thead th {\n",
       "        text-align: right;\n",
       "    }\n",
       "</style>\n",
       "<table border=\"1\" class=\"dataframe\">\n",
       "  <thead>\n",
       "    <tr style=\"text-align: right;\">\n",
       "      <th></th>\n",
       "      <th>Hg Levels</th>\n",
       "      <th>Combined Rank</th>\n",
       "    </tr>\n",
       "  </thead>\n",
       "  <tbody>\n",
       "    <tr>\n",
       "      <th>female</th>\n",
       "      <td>12.3</td>\n",
       "      <td>10.5</td>\n",
       "    </tr>\n",
       "    <tr>\n",
       "      <th>female</th>\n",
       "      <td>13.1</td>\n",
       "      <td>13.0</td>\n",
       "    </tr>\n",
       "    <tr>\n",
       "      <th>female</th>\n",
       "      <td>11.3</td>\n",
       "      <td>5.0</td>\n",
       "    </tr>\n",
       "    <tr>\n",
       "      <th>female</th>\n",
       "      <td>10.1</td>\n",
       "      <td>1.0</td>\n",
       "    </tr>\n",
       "    <tr>\n",
       "      <th>female</th>\n",
       "      <td>14.0</td>\n",
       "      <td>17.0</td>\n",
       "    </tr>\n",
       "    <tr>\n",
       "      <th>female</th>\n",
       "      <td>13.3</td>\n",
       "      <td>15.0</td>\n",
       "    </tr>\n",
       "    <tr>\n",
       "      <th>female</th>\n",
       "      <td>10.5</td>\n",
       "      <td>2.0</td>\n",
       "    </tr>\n",
       "    <tr>\n",
       "      <th>female</th>\n",
       "      <td>12.3</td>\n",
       "      <td>10.5</td>\n",
       "    </tr>\n",
       "    <tr>\n",
       "      <th>female</th>\n",
       "      <td>10.9</td>\n",
       "      <td>4.0</td>\n",
       "    </tr>\n",
       "    <tr>\n",
       "      <th>female</th>\n",
       "      <td>11.9</td>\n",
       "      <td>8.0</td>\n",
       "    </tr>\n",
       "    <tr>\n",
       "      <th>male</th>\n",
       "      <td>10.8</td>\n",
       "      <td>3.0</td>\n",
       "    </tr>\n",
       "    <tr>\n",
       "      <th>male</th>\n",
       "      <td>11.5</td>\n",
       "      <td>6.0</td>\n",
       "    </tr>\n",
       "    <tr>\n",
       "      <th>male</th>\n",
       "      <td>11.8</td>\n",
       "      <td>7.0</td>\n",
       "    </tr>\n",
       "    <tr>\n",
       "      <th>male</th>\n",
       "      <td>12.1</td>\n",
       "      <td>9.0</td>\n",
       "    </tr>\n",
       "    <tr>\n",
       "      <th>male</th>\n",
       "      <td>12.8</td>\n",
       "      <td>12.0</td>\n",
       "    </tr>\n",
       "    <tr>\n",
       "      <th>male</th>\n",
       "      <td>13.2</td>\n",
       "      <td>14.0</td>\n",
       "    </tr>\n",
       "    <tr>\n",
       "      <th>male</th>\n",
       "      <td>13.5</td>\n",
       "      <td>16.0</td>\n",
       "    </tr>\n",
       "    <tr>\n",
       "      <th>male</th>\n",
       "      <td>14.1</td>\n",
       "      <td>18.0</td>\n",
       "    </tr>\n",
       "  </tbody>\n",
       "</table>\n",
       "</div>"
      ],
      "text/plain": [
       "        Hg Levels  Combined Rank\n",
       "female       12.3           10.5\n",
       "female       13.1           13.0\n",
       "female       11.3            5.0\n",
       "female       10.1            1.0\n",
       "female       14.0           17.0\n",
       "female       13.3           15.0\n",
       "female       10.5            2.0\n",
       "female       12.3           10.5\n",
       "female       10.9            4.0\n",
       "female       11.9            8.0\n",
       "male         10.8            3.0\n",
       "male         11.5            6.0\n",
       "male         11.8            7.0\n",
       "male         12.1            9.0\n",
       "male         12.8           12.0\n",
       "male         13.2           14.0\n",
       "male         13.5           16.0\n",
       "male         14.1           18.0"
      ]
     },
     "execution_count": 91,
     "metadata": {},
     "output_type": "execute_result"
    }
   ],
   "source": [
    "# let's merge two dataframes and calculate the combined ranks\n",
    "combined = pd.concat([female, male], sort=True)\n",
    "combined[\"Combined Rank\"] = combined[\"Hg Levels\"].rank()\n",
    "combined"
   ]
  },
  {
   "cell_type": "code",
   "execution_count": 93,
   "metadata": {},
   "outputs": [],
   "source": [
    "# now let's calculate the sum of male ranks and female ranks\n",
    "tfemale = combined.loc[\"female\", \"Combined Rank\"].sum() # 86\n",
    "tmale = combined.loc[\"male\", \"Combined Rank\"].sum() # 85"
   ]
  },
  {
   "cell_type": "markdown",
   "metadata": {},
   "source": [
    "The test statistic is going to be the least of these two summed ranks i.e W = 85\n",
    "\n",
    "Now, to find the expected value of W i.e value of W when null hypothesis is True, use the formula:\n",
    "<br>$E(W)$ = $1/2*n1*(n1 + n2 + 1)$\n",
    "<br>where,\n",
    "<br>n1 - number of observations in the smaller sample\n",
    "<br>n2 - number of observations in the larger sample\n",
    "\n",
    "hence, $E(W)$ = $1/2*8*(8 + 10 + 1)$ = $76$\n",
    "\n",
    "So, this means, assuming the null hypothesis is true, we'd expect the summed ranks to be 76\n",
    "<br>But they're not. they're 85.\n",
    "\n",
    "So, how do we assess whether that's far enough to reject the null hypothesis.\n",
    "\n",
    "*If n is small*\n",
    "<br>use a reference table to get the critical interval\n",
    "<br>Hence we fail to reject the null hypothesis (from the reference table)\n",
    "\n",
    "*If n is large*\n",
    "<br>Again, it can be approximated to a normal distribution and the z value can be calculated as:\n",
    "![zu](zu.png)"
   ]
  },
  {
   "cell_type": "markdown",
   "metadata": {},
   "source": [
    "Plugging in the values, we get the z value as 0.80 which is less than 1.65 (z critical).\n",
    "<br>Hence we fail to reject the null hypothesis. There is not enough evidence to say that the median of female differs from the median of male"
   ]
  },
  {
   "cell_type": "code",
   "execution_count": null,
   "metadata": {},
   "outputs": [],
   "source": []
  },
  {
   "cell_type": "code",
   "execution_count": null,
   "metadata": {},
   "outputs": [],
   "source": []
  },
  {
   "cell_type": "code",
   "execution_count": null,
   "metadata": {},
   "outputs": [],
   "source": []
  },
  {
   "cell_type": "code",
   "execution_count": null,
   "metadata": {},
   "outputs": [],
   "source": []
  },
  {
   "cell_type": "code",
   "execution_count": null,
   "metadata": {},
   "outputs": [],
   "source": []
  },
  {
   "cell_type": "code",
   "execution_count": null,
   "metadata": {},
   "outputs": [],
   "source": []
  },
  {
   "cell_type": "code",
   "execution_count": null,
   "metadata": {},
   "outputs": [],
   "source": []
  },
  {
   "cell_type": "code",
   "execution_count": null,
   "metadata": {},
   "outputs": [],
   "source": []
  },
  {
   "cell_type": "code",
   "execution_count": null,
   "metadata": {},
   "outputs": [],
   "source": []
  },
  {
   "cell_type": "code",
   "execution_count": null,
   "metadata": {},
   "outputs": [],
   "source": []
  },
  {
   "cell_type": "markdown",
   "metadata": {},
   "source": [
    "*References*\n",
    "\n",
    "https://www.youtube.com/watch?v=IcLSKko2tsg\n",
    "<br>https://www.lboro.ac.uk/media/wwwlboroacuk/content/mlsc/downloads/2.1_signtest.pdf"
   ]
  },
  {
   "cell_type": "code",
   "execution_count": null,
   "metadata": {},
   "outputs": [],
   "source": []
  },
  {
   "cell_type": "code",
   "execution_count": null,
   "metadata": {},
   "outputs": [],
   "source": []
  }
 ],
 "metadata": {
  "kernelspec": {
   "display_name": "Python 3",
   "language": "python",
   "name": "python3"
  },
  "language_info": {
   "codemirror_mode": {
    "name": "ipython",
    "version": 3
   },
   "file_extension": ".py",
   "mimetype": "text/x-python",
   "name": "python",
   "nbconvert_exporter": "python",
   "pygments_lexer": "ipython3",
   "version": "3.7.2"
  }
 },
 "nbformat": 4,
 "nbformat_minor": 2
}
