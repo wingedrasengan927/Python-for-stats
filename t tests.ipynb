{
 "cells": [
  {
   "cell_type": "markdown",
   "metadata": {},
   "source": [
    "# t Tests"
   ]
  },
  {
   "cell_type": "markdown",
   "metadata": {},
   "source": [
    "The t value is given by the formula\n",
    "![ttest](ttest.png)\n",
    "\n",
    "Let's understand this intuitively"
   ]
  },
  {
   "cell_type": "markdown",
   "metadata": {},
   "source": [
    "**Note** the below intuition is similar but more complex than the intuition given by crash course statistics\n",
    "\n",
    "<br> $Test\\ Statistic$ = $\\dfrac{Observed\\ Data\\ -\\ What\\ we'd\\ expect\\ if\\ the\\ null\\ is\\ true}{Average\\ Variation}$\n"
   ]
  },
  {
   "cell_type": "markdown",
   "metadata": {},
   "source": [
    "**Signal**\n",
    "\n",
    "The numerator is the signal. You simply take the sample mean and subtract the null hypothesis value. If your sample mean is 10 and the null hypothesis is 6, the difference, or signal, is 4.\n",
    "\n",
    "If there is no difference between the sample mean and null value, the signal in the numerator, as well as the value of the entire ratio, equals zero. For instance, if your sample mean is 6 and the null value is 6, the difference is zero.\n",
    "\n",
    "As the difference between the sample mean and the null hypothesis mean increases in either the positive or negative direction, the strength of the signal increases."
   ]
  },
  {
   "cell_type": "markdown",
   "metadata": {},
   "source": [
    "**Noise**\n",
    "\n",
    "The denominator is the noise. The equation in the denominator is a measure of variability known as the standard error of the mean. A larger number indicates that your sample estimate is less precise because it has more random error.\n",
    "\n",
    "This random error is the “noise.” When there is more noise, you expect to see larger differences between the sample mean and the null hypothesis value even when the null hypothesis is true. We include the noise factor in the denominator because we must determine whether the signal is large enough to stand out from it."
   ]
  },
  {
   "cell_type": "markdown",
   "metadata": {},
   "source": [
    "**Signal-to-Noise Ratio**\n",
    "\n",
    "Both the signal and noise values are in the units of your data. If your signal is 6 and the noise is 2, your t-value is 3. However, if there is a difference of the same size but your data have more variability (6), your t-value is only 1. The signal is at the same scale as the noise.\n",
    "\n",
    "In this manner, t-values allow you to see how distinguishable your signal is from the noise. Relatively large signals and low levels of noise produce larger t-values. If the signal does not stand out from the noise, it’s likely that the observed difference between the sample estimate and the null hypothesis value is due to random error in the sample rather than a true difference at the population level."
   ]
  },
  {
   "cell_type": "markdown",
   "metadata": {},
   "source": [
    "*The statistical evaluation is based on the ratio of the observed differences (observed difference - what we expect if the null is true) to the variability of the difference. A\n",
    "large observed difference accompanied by small variability is the\n",
    "most impressive evidence of a real effect*"
   ]
  },
  {
   "cell_type": "markdown",
   "metadata": {},
   "source": [
    "Mark of a real drug effect: a large\n",
    "difference between drug and placebo with small\n",
    "variation.\n",
    "\n",
    "![drug](drug.png)\n"
   ]
  },
  {
   "cell_type": "markdown",
   "metadata": {},
   "source": [
    "# Paired t tests"
   ]
  },
  {
   "cell_type": "markdown",
   "metadata": {},
   "source": [
    "The paired sample t-test, sometimes called the dependent sample t-test, is a statistical procedure used to determine whether the mean difference between two sets of observations is zero. In a paired sample t-test, each subject or entity is measured twice, usually after performing some process, resulting in pairs of observations and we're interested to find out whether the process has an effect. Common applications of the paired sample t-test include case-control studies or repeated-measures designs. Suppose you are interested in evaluating the effectiveness of a company training program. One approach you might consider would be to measure the performance of a sample of employees before and after completing the program, and analyze the differences using a paired sample t-test.\n",
    "<br>The paired sample t-test requires the sample data to be numeric and continuous.\n",
    "<br>A paired t-test simply calculates the difference between paired observations (e.g., before and after) and then performs a 1-sample t-test on the differences.\n",
    "<br>In a paired t test, The differences should be approximately normally distributed.\n"
   ]
  },
  {
   "cell_type": "code",
   "execution_count": 35,
   "metadata": {},
   "outputs": [],
   "source": [
    "import numpy as np\n",
    "import pandas as pd\n",
    "import matplotlib.pyplot as plt\n",
    "import seaborn as sns"
   ]
  },
  {
   "cell_type": "markdown",
   "metadata": {},
   "source": [
    "**example**\n",
    "\n",
    "Suppose a sample of n students were given a diagnostic test before studying a particular\n",
    "module and then again after completing the module. We want to find out if, in general,\n",
    "our teaching leads to improvements in students’ knowledge/skills (i.e. test scores). We\n",
    "can use the results from our sample of students to draw conclusions about the impact of\n",
    "this module in general.\n",
    "Let x = test score before the module, y = test score after the module\n",
    "To test the null hypothesis that the true mean difference is zero, the procedure is as\n",
    "follows:\n",
    "1. Calculate the difference (di = yi − xi) between the two observations on each pair,\n",
    "making sure you distinguish between positive and negative differences.\n",
    "2. Calculate the mean difference, $\\bar{d}$.\n",
    "3. Calculate the standard deviation of the differences, sd, and use this to calculate the\n",
    "standard error of the mean difference, $SE(\\bar{d})$ = $s_{d}$/$\\sqrt{N}$\n",
    "n\n",
    "4. Calculate the t-statistic, which is given by T =\n",
    "$\\bar{d}$/$SE(\\bar{d})$\n",
    ". Under the null hypothesis,"
   ]
  },
  {
   "cell_type": "markdown",
   "metadata": {},
   "source": [
    "**Note:**\n",
    "Suppose the Before and After columns contain test scores and there was an intervention in between (like teaching the module in the example above). If each row in the data contains the same subject in the Before and After column, it makes sense to find the difference between the columns because it represents how much each subject changed after the intervention. The paired t-test is a good choice.\n",
    "\n",
    "On the other hand, if a row has different subjects in the Before and After columns, it doesn’t make sense to subtract the columns. You should use the 2-sample t-test in that case"
   ]
  },
  {
   "cell_type": "code",
   "execution_count": 36,
   "metadata": {},
   "outputs": [],
   "source": [
    "premodulescore = [\n",
    "18,\n",
    "21,\n",
    "16,\n",
    "22,\n",
    "19,\n",
    "24,\n",
    "17,\n",
    "21,\n",
    "23,\n",
    "18,\n",
    "14,\n",
    "16,\n",
    "16,\n",
    "19,\n",
    "18,\n",
    "20,\n",
    "12,\n",
    "22,\n",
    "15,\n",
    "17]\n",
    "\n",
    "postmodulescore = [22,\n",
    "25,\n",
    "17,\n",
    "24,\n",
    "16,\n",
    "29 ,\n",
    "20 ,\n",
    "23 ,\n",
    "19 ,\n",
    "20 ,\n",
    "15 ,\n",
    "15 ,\n",
    "18 ,\n",
    "26 ,\n",
    "18 ,\n",
    "24,\n",
    "18 ,\n",
    "25 ,\n",
    "19 ,\n",
    "16 ]"
   ]
  },
  {
   "cell_type": "code",
   "execution_count": 37,
   "metadata": {},
   "outputs": [],
   "source": [
    "# dataset\n",
    "scores = pd.DataFrame({\"Student\":list(range(1, 21)), \n",
    "                      \"Pre-module score\": premodulescore,\n",
    "                      \"Post-module score\": postmodulescore})"
   ]
  },
  {
   "cell_type": "code",
   "execution_count": 38,
   "metadata": {},
   "outputs": [
    {
     "data": {
      "text/html": [
       "<div>\n",
       "<style scoped>\n",
       "    .dataframe tbody tr th:only-of-type {\n",
       "        vertical-align: middle;\n",
       "    }\n",
       "\n",
       "    .dataframe tbody tr th {\n",
       "        vertical-align: top;\n",
       "    }\n",
       "\n",
       "    .dataframe thead th {\n",
       "        text-align: right;\n",
       "    }\n",
       "</style>\n",
       "<table border=\"1\" class=\"dataframe\">\n",
       "  <thead>\n",
       "    <tr style=\"text-align: right;\">\n",
       "      <th></th>\n",
       "      <th>Student</th>\n",
       "      <th>Pre-module score</th>\n",
       "      <th>Post-module score</th>\n",
       "      <th>Difference</th>\n",
       "    </tr>\n",
       "  </thead>\n",
       "  <tbody>\n",
       "    <tr>\n",
       "      <th>0</th>\n",
       "      <td>1</td>\n",
       "      <td>18</td>\n",
       "      <td>22</td>\n",
       "      <td>4</td>\n",
       "    </tr>\n",
       "    <tr>\n",
       "      <th>1</th>\n",
       "      <td>2</td>\n",
       "      <td>21</td>\n",
       "      <td>25</td>\n",
       "      <td>4</td>\n",
       "    </tr>\n",
       "    <tr>\n",
       "      <th>2</th>\n",
       "      <td>3</td>\n",
       "      <td>16</td>\n",
       "      <td>17</td>\n",
       "      <td>1</td>\n",
       "    </tr>\n",
       "    <tr>\n",
       "      <th>3</th>\n",
       "      <td>4</td>\n",
       "      <td>22</td>\n",
       "      <td>24</td>\n",
       "      <td>2</td>\n",
       "    </tr>\n",
       "    <tr>\n",
       "      <th>4</th>\n",
       "      <td>5</td>\n",
       "      <td>19</td>\n",
       "      <td>16</td>\n",
       "      <td>-3</td>\n",
       "    </tr>\n",
       "  </tbody>\n",
       "</table>\n",
       "</div>"
      ],
      "text/plain": [
       "   Student  Pre-module score  Post-module score  Difference\n",
       "0        1                18                 22           4\n",
       "1        2                21                 25           4\n",
       "2        3                16                 17           1\n",
       "3        4                22                 24           2\n",
       "4        5                19                 16          -3"
      ]
     },
     "execution_count": 38,
     "metadata": {},
     "output_type": "execute_result"
    }
   ],
   "source": [
    "scores[\"Difference\"] = scores[\"Post-module score\"] - scores[\"Pre-module score\"]\n",
    "scores.head()"
   ]
  },
  {
   "cell_type": "code",
   "execution_count": 39,
   "metadata": {},
   "outputs": [
    {
     "data": {
      "text/plain": [
       "<matplotlib.axes._subplots.AxesSubplot at 0x110c9f13208>"
      ]
     },
     "execution_count": 39,
     "metadata": {},
     "output_type": "execute_result"
    },
    {
     "data": {
      "image/png": "[encoded data removed]",
      "text/plain": [
       "<Figure size 432x288 with 1 Axes>"
      ]
     },
     "metadata": {
      "needs_background": "light"
     },
     "output_type": "display_data"
    }
   ],
   "source": [
    "# we can see that the differences is almost normally distributed\n",
    "sns.distplot(scores[\"Difference\"])"
   ]
  },
  {
   "cell_type": "markdown",
   "metadata": {},
   "source": [
    "Another way to check for normally distributed data is to use a Q-Q plot. In a Q-Q plot, the data should be on the red line."
   ]
  },
  {
   "cell_type": "code",
   "execution_count": 48,
   "metadata": {},
   "outputs": [
    {
     "data": {
      "text/plain": [
       "Text(0.5, 1.0, 'test scores Difference Q-Q Plot')"
      ]
     },
     "execution_count": 48,
     "metadata": {},
     "output_type": "execute_result"
    },
    {
     "data": {
      "image/png": "[encoded data removed]",
      "text/plain": [
       "<Figure size 432x288 with 1 Axes>"
      ]
     },
     "metadata": {
      "needs_background": "light"
     },
     "output_type": "display_data"
    }
   ],
   "source": [
    "stats.probplot(scores['Difference'], plot= plt)\n",
    "plt.title('test scores Difference Q-Q Plot')"
   ]
  },
  {
   "cell_type": "markdown",
   "metadata": {},
   "source": [
    "There is some deviation from normality, but it does not appear to be severe so there is no need to worry. To be sure, let’s test this statistically to see if the data is normally distributed. To test this, one can use the Shapiro-Wilk test for normality. The null hypotheis would be, the data is normally distributed."
   ]
  },
  {
   "cell_type": "code",
   "execution_count": 49,
   "metadata": {},
   "outputs": [
    {
     "data": {
      "text/plain": [
       "(0.968596339225769, 0.7249979376792908)"
      ]
     },
     "execution_count": 49,
     "metadata": {},
     "output_type": "execute_result"
    }
   ],
   "source": [
    "stats.shapiro(scores[\"Difference\"])"
   ]
  },
  {
   "cell_type": "markdown",
   "metadata": {},
   "source": [
    "The test was non-significant. Therefore, the difference is normally distributed."
   ]
  },
  {
   "cell_type": "code",
   "execution_count": 40,
   "metadata": {},
   "outputs": [
    {
     "data": {
      "text/plain": [
       "count    20.000000\n",
       "mean      2.050000\n",
       "std       2.837252\n",
       "min      -4.000000\n",
       "25%       0.750000\n",
       "50%       2.000000\n",
       "75%       4.000000\n",
       "max       7.000000\n",
       "Name: Difference, dtype: float64"
      ]
     },
     "execution_count": 40,
     "metadata": {},
     "output_type": "execute_result"
    }
   ],
   "source": [
    "scores[\"Difference\"].describe()"
   ]
  },
  {
   "cell_type": "code",
   "execution_count": 41,
   "metadata": {},
   "outputs": [
    {
     "data": {
      "text/plain": [
       "0.634428877022476"
      ]
     },
     "execution_count": 41,
     "metadata": {},
     "output_type": "execute_result"
    }
   ],
   "source": [
    "# Standard Error of the mean\n",
    "# Because the population standard deviation is not known, we have to estimate the SE mean. \n",
    "# It can be estimated as following: \n",
    "SE = scores[\"Difference\"].std()/np.sqrt(20)\n",
    "SE"
   ]
  },
  {
   "cell_type": "code",
   "execution_count": 42,
   "metadata": {},
   "outputs": [
    {
     "data": {
      "text/plain": [
       "3.2312526655803127"
      ]
     },
     "execution_count": 42,
     "metadata": {},
     "output_type": "execute_result"
    }
   ],
   "source": [
    "# t value\n",
    "t = scores[\"Difference\"].mean()/SE\n",
    "t"
   ]
  },
  {
   "cell_type": "code",
   "execution_count": 43,
   "metadata": {},
   "outputs": [
    {
     "data": {
      "text/plain": [
       "0.004394965993185664"
      ]
     },
     "execution_count": 43,
     "metadata": {},
     "output_type": "execute_result"
    }
   ],
   "source": [
    "# associated p value\n",
    "from scipy import stats\n",
    "p = stats.t.sf(t, 19)*2 # sice it's a two tailed test\n",
    "p # p is less than alpha. Hence we reject the null hypothesis"
   ]
  },
  {
   "cell_type": "code",
   "execution_count": 50,
   "metadata": {},
   "outputs": [
    {
     "data": {
      "text/plain": [
       "Ttest_relResult(statistic=-3.231252665580312, pvalue=0.004394965993185664)"
      ]
     },
     "execution_count": 50,
     "metadata": {},
     "output_type": "execute_result"
    }
   ],
   "source": [
    "# let's use pythons built in method to perform this test\n",
    "stats.ttest_rel(scores[\"Pre-module score\"], scores[\"Post-module score\"]) # it matches"
   ]
  },
  {
   "cell_type": "markdown",
   "metadata": {},
   "source": [
    "# two-sample t tests\n",
    "**(unpaired t test)**"
   ]
  },
  {
   "cell_type": "markdown",
   "metadata": {},
   "source": [
    "The two-sample t-test is applied to compare whether the average difference between two groups is really significant or if it is due instead to random chance. It helps to answer questions like whether the test results of patients who received a drug are better than test results of those who received a placebo.\n",
    "\n",
    "The 2-sample t-test takes your sample data from two groups and boils it down to one t-value. The process is very similar to the 1-sample t-test, and you can still use the analogy of the signal-to-noise ratio. Unlike the paired t-test, the 2-sample t-test requires independent groups for each sample.\n",
    "\n",
    "To perform this test, both samples must be normally distributed."
   ]
  },
  {
   "cell_type": "markdown",
   "metadata": {},
   "source": [
    "**example**\n",
    "\n",
    "data is collected from a sample of deliveries of Company A and Company B. The question being answered is whether there is a significant (or only random) difference in the average cycle time to deliver a pizza from Pizza Company A vs. Pizza Company B."
   ]
  },
  {
   "cell_type": "code",
   "execution_count": 44,
   "metadata": {},
   "outputs": [],
   "source": [
    "# data\n",
    "A = [\n",
    "20.4 ,\n",
    "24.2 ,\n",
    "15.4 ,\n",
    "21.4 ,\n",
    "20.2 ,\n",
    "18.5 ,\n",
    "21.5 ,\n",
    "]\n",
    "B=[\n",
    "20.2, \n",
    "16.9 ,\n",
    "18.5 ,\n",
    "17.3 ,\n",
    "20.5 ,\n",
    "]"
   ]
  },
  {
   "cell_type": "code",
   "execution_count": 46,
   "metadata": {},
   "outputs": [],
   "source": [
    "for i in range(len(A)-len(B)):\n",
    "    B.append(np.NaN)\n",
    "pizza = pd.DataFrame({\"Company A\": A, \"Company B\":B})"
   ]
  },
  {
   "cell_type": "code",
   "execution_count": 47,
   "metadata": {},
   "outputs": [
    {
     "data": {
      "text/html": [
       "<div>\n",
       "<style scoped>\n",
       "    .dataframe tbody tr th:only-of-type {\n",
       "        vertical-align: middle;\n",
       "    }\n",
       "\n",
       "    .dataframe tbody tr th {\n",
       "        vertical-align: top;\n",
       "    }\n",
       "\n",
       "    .dataframe thead th {\n",
       "        text-align: right;\n",
       "    }\n",
       "</style>\n",
       "<table border=\"1\" class=\"dataframe\">\n",
       "  <thead>\n",
       "    <tr style=\"text-align: right;\">\n",
       "      <th></th>\n",
       "      <th>Company A</th>\n",
       "      <th>Company B</th>\n",
       "    </tr>\n",
       "  </thead>\n",
       "  <tbody>\n",
       "    <tr>\n",
       "      <th>0</th>\n",
       "      <td>20.4</td>\n",
       "      <td>20.2</td>\n",
       "    </tr>\n",
       "    <tr>\n",
       "      <th>1</th>\n",
       "      <td>24.2</td>\n",
       "      <td>16.9</td>\n",
       "    </tr>\n",
       "    <tr>\n",
       "      <th>2</th>\n",
       "      <td>15.4</td>\n",
       "      <td>18.5</td>\n",
       "    </tr>\n",
       "    <tr>\n",
       "      <th>3</th>\n",
       "      <td>21.4</td>\n",
       "      <td>17.3</td>\n",
       "    </tr>\n",
       "    <tr>\n",
       "      <th>4</th>\n",
       "      <td>20.2</td>\n",
       "      <td>20.5</td>\n",
       "    </tr>\n",
       "    <tr>\n",
       "      <th>5</th>\n",
       "      <td>18.5</td>\n",
       "      <td>NaN</td>\n",
       "    </tr>\n",
       "    <tr>\n",
       "      <th>6</th>\n",
       "      <td>21.5</td>\n",
       "      <td>NaN</td>\n",
       "    </tr>\n",
       "  </tbody>\n",
       "</table>\n",
       "</div>"
      ],
      "text/plain": [
       "   Company A  Company B\n",
       "0       20.4       20.2\n",
       "1       24.2       16.9\n",
       "2       15.4       18.5\n",
       "3       21.4       17.3\n",
       "4       20.2       20.5\n",
       "5       18.5        NaN\n",
       "6       21.5        NaN"
      ]
     },
     "execution_count": 47,
     "metadata": {},
     "output_type": "execute_result"
    }
   ],
   "source": [
    "pizza"
   ]
  },
  {
   "cell_type": "code",
   "execution_count": 51,
   "metadata": {},
   "outputs": [
    {
     "data": {
      "text/plain": [
       "<matplotlib.axes._subplots.AxesSubplot at 0x110ca007208>"
      ]
     },
     "execution_count": 51,
     "metadata": {},
     "output_type": "execute_result"
    },
    {
     "data": {
      "image/png": "[encoded data removed]",
      "text/plain": [
       "<Figure size 432x288 with 1 Axes>"
      ]
     },
     "metadata": {
      "needs_background": "light"
     },
     "output_type": "display_data"
    }
   ],
   "source": [
    "# let's check if the both the columns are normally distributed\n",
    "sns.distplot(pizza[\"Company A\"])"
   ]
  },
  {
   "cell_type": "code",
   "execution_count": 53,
   "metadata": {},
   "outputs": [
    {
     "data": {
      "text/plain": [
       "<matplotlib.axes._subplots.AxesSubplot at 0x110c9ffd048>"
      ]
     },
     "execution_count": 53,
     "metadata": {},
     "output_type": "execute_result"
    },
    {
     "data": {
      "image/png": "[encoded data removed]",
      "text/plain": [
       "<Figure size 432x288 with 1 Axes>"
      ]
     },
     "metadata": {
      "needs_background": "light"
     },
     "output_type": "display_data"
    }
   ],
   "source": [
    "sns.distplot(pizza[\"Company B\"].fillna(0))"
   ]
  },
  {
   "cell_type": "markdown",
   "metadata": {},
   "source": [
    "They appear to be normally distributed. Anyway, let's confirm with shapiros test"
   ]
  },
  {
   "cell_type": "code",
   "execution_count": 54,
   "metadata": {},
   "outputs": [
    {
     "data": {
      "text/plain": [
       "(0.9548116326332092, 0.7731825709342957)"
      ]
     },
     "execution_count": 54,
     "metadata": {},
     "output_type": "execute_result"
    }
   ],
   "source": [
    "stats.shapiro(pizza[\"Company A\"])"
   ]
  },
  {
   "cell_type": "code",
   "execution_count": 56,
   "metadata": {},
   "outputs": [
    {
     "data": {
      "text/plain": [
       "(0.7179534435272217, 0.0058021885342895985)"
      ]
     },
     "execution_count": 56,
     "metadata": {},
     "output_type": "execute_result"
    }
   ],
   "source": [
    "stats.shapiro(pizza[\"Company B\"].fillna(0))"
   ]
  },
  {
   "cell_type": "markdown",
   "metadata": {},
   "source": [
    "Hence, this confirms that both are normally distributed"
   ]
  },
  {
   "cell_type": "code",
   "execution_count": 77,
   "metadata": {},
   "outputs": [
    {
     "data": {
      "text/plain": [
       "Ttest_indResult(statistic=1.1193627069386796, pvalue=0.28915100822275147)"
      ]
     },
     "execution_count": 77,
     "metadata": {},
     "output_type": "execute_result"
    }
   ],
   "source": [
    "# First, let's use python built in method to calculate\n",
    "stats.ttest_ind(pizza[\"Company A\"], pizza[\"Company B\"].dropna())"
   ]
  },
  {
   "cell_type": "markdown",
   "metadata": {},
   "source": [
    "Since the p-value is 0.289, i.e. greater than 0.05 (or 5 percent), it can be concluded that there is no difference between the means."
   ]
  },
  {
   "cell_type": "markdown",
   "metadata": {},
   "source": [
    "In the two-sample t-test, the SE mean is computed as: \n",
    "![Se](twosamplese.png)"
   ]
  },
  {
   "cell_type": "markdown",
   "metadata": {},
   "source": [
    "However, this is only appropriate when samples are large (both greater than 30). Where samples are smaller, we use the following method: \n",
    "![pool](pool.png)"
   ]
  },
  {
   "cell_type": "markdown",
   "metadata": {},
   "source": [
    "Sp is a pooled estimate of the common population standard deviation. Hence, in this method it can be assumed that variances are equal for both populations. If it cannot be assumed, it cannot be used. (Statistical software can handle unequal variances for the two-sample t-test module, but the actual calculations are complex and beyond the scope of this article). "
   ]
  },
  {
   "cell_type": "markdown",
   "metadata": {},
   "source": [
    "Let's formulate the null and alternate hypothesis\n",
    "<br>Ho is: “The population means are the same, i.e., $\\mu_{1}$ = $\\mu_{2}$\n",
    "<br>Ha is: “The population means are not the same, $\\mu_{1}$ $\\neq$ $\\mu_{2}$\n",
    "<br>Alpha is to be set at 0.05. "
   ]
  },
  {
   "cell_type": "markdown",
   "metadata": {},
   "source": [
    "let's calculate for this data set\n",
    "![data](data.png)"
   ]
  },
  {
   "cell_type": "code",
   "execution_count": 69,
   "metadata": {},
   "outputs": [],
   "source": [
    "# let's calculate SE\n",
    "\n",
    "import math\n",
    "\n",
    "def pool_est(n1, n2, s1, s2):\n",
    "    numerator = abs((n1 -1)*math.pow(s1, 2) + (n2-1)*math.pow(s2, 2))\n",
    "    denominator = n1 + n2 - 2\n",
    "    return np.sqrt(numerator/denominator)\n",
    "\n",
    "def se(n1, n2, s1, s2):\n",
    "    x = np.sqrt(1/n1 + 1/n2)\n",
    "    return pool_est(n1, n2, s1, s2) * x"
   ]
  },
  {
   "cell_type": "code",
   "execution_count": 68,
   "metadata": {},
   "outputs": [
    {
     "name": "stdout",
     "output_type": "stream",
     "text": [
      "7529.0\n",
      "25\n"
     ]
    },
    {
     "data": {
      "text/plain": [
       "17.35396208362805"
      ]
     },
     "execution_count": 68,
     "metadata": {},
     "output_type": "execute_result"
    }
   ],
   "source": [
    "pool_est(12, 15, 15, 19)"
   ]
  },
  {
   "cell_type": "code",
   "execution_count": 70,
   "metadata": {},
   "outputs": [
    {
     "data": {
      "text/plain": [
       "6.721160614060641"
      ]
     },
     "execution_count": 70,
     "metadata": {},
     "output_type": "execute_result"
    }
   ],
   "source": [
    "se(12, 15, 15, 19)"
   ]
  },
  {
   "cell_type": "markdown",
   "metadata": {},
   "source": [
    "In the two-sample t-test, the t-statistics are retrieved by subtracting the difference between the two sample means from the null hypothesis, which is u1-u2 is zero. \n",
    "![ttwosample](ttwosample.png)"
   ]
  },
  {
   "cell_type": "code",
   "execution_count": 72,
   "metadata": {},
   "outputs": [
    {
     "data": {
      "text/plain": [
       "1.1902706183310114"
      ]
     },
     "execution_count": 72,
     "metadata": {},
     "output_type": "execute_result"
    }
   ],
   "source": [
    "# t value\n",
    "t = ((92-84) - (0))/se(12, 15, 15, 19)\n",
    "t"
   ]
  },
  {
   "cell_type": "code",
   "execution_count": 78,
   "metadata": {},
   "outputs": [
    {
     "data": {
      "text/plain": [
       "0.24512046334919127"
      ]
     },
     "execution_count": 78,
     "metadata": {},
     "output_type": "execute_result"
    }
   ],
   "source": [
    "# p value\n",
    "stats.t.sf(t, 25)*2"
   ]
  },
  {
   "cell_type": "code",
   "execution_count": null,
   "metadata": {},
   "outputs": [],
   "source": []
  },
  {
   "cell_type": "markdown",
   "metadata": {},
   "source": [
    "*References*\n",
    "\n",
    "https://blog.minitab.com/blog/adventures-in-statistics-2/understanding-t-tests-1-sample-2-sample-and-paired-t-tests\n",
    "<br>https://www.statisticssolutions.com/manova-analysis-paired-sample-t-test/<br>\n",
    "www.statstutor.ac.uk/resources/uploaded/paired-t-test.pdf<br>\n",
    "https://www.isixsigma.com/tools-templates/hypothesis-testing/making-sense-two-sample-t-test/\n",
    "<br>https://pythonfordatascience.org/paired-samples-t-test-python/\n",
    "\n"
   ]
  },
  {
   "cell_type": "code",
   "execution_count": null,
   "metadata": {},
   "outputs": [],
   "source": []
  },
  {
   "cell_type": "code",
   "execution_count": null,
   "metadata": {},
   "outputs": [],
   "source": []
  },
  {
   "cell_type": "code",
   "execution_count": null,
   "metadata": {},
   "outputs": [],
   "source": []
  },
  {
   "cell_type": "code",
   "execution_count": null,
   "metadata": {},
   "outputs": [],
   "source": []
  },
  {
   "cell_type": "code",
   "execution_count": null,
   "metadata": {},
   "outputs": [],
   "source": []
  },
  {
   "cell_type": "code",
   "execution_count": null,
   "metadata": {},
   "outputs": [],
   "source": []
  },
  {
   "cell_type": "code",
   "execution_count": null,
   "metadata": {},
   "outputs": [],
   "source": []
  }
 ],
 "metadata": {
  "kernelspec": {
   "display_name": "Python 3",
   "language": "python",
   "name": "python3"
  },
  "language_info": {
   "codemirror_mode": {
    "name": "ipython",
    "version": 3
   },
   "file_extension": ".py",
   "mimetype": "text/x-python",
   "name": "python",
   "nbconvert_exporter": "python",
   "pygments_lexer": "ipython3",
   "version": "3.7.2"
  }
 },
 "nbformat": 4,
 "nbformat_minor": 2
}
